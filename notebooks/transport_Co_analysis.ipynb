{
 "cells": [
  {
   "cell_type": "code",
   "execution_count": 1,
   "metadata": {},
   "outputs": [],
   "source": [
    "import numpy as np\n",
    "import pandas as pd"
   ]
  },
  {
   "cell_type": "markdown",
   "metadata": {},
   "source": [
    "### **ANONYMOUS TRANSPORT COMPANY ANALYSIS 🚛**\n",
    "First, I will provide a comprehensive overview of the variables included in our dataset because they are in Spanish:\n",
    "* RECEPCIÓN CUENTAS (RECEIPT OF ACCOUNTS): It shows when the driver delivers his trip-related accounts, such as the signed remission guide, toll road expenses, invoices, and a summary of trip costs. These details are crucial for determining the driver's earnings for the trip they completed, allowing us to calculate the amount they will receive.\n",
    "\n",
    "* FECHA (DATE): The scheduled date of the trip.\n",
    "* HORA (HOUR): The scheduled time for the trip.\n",
    "* CLIENTE (CUSTOMER) : It shows who requested the service.\n",
    "* MARCA (AUTOMOBILE BRAND): The brand of the automobile used for the trip.\n",
    "* MODELO (AUTOMOBILE MODEL): The model of the automobile used for the trip. \n",
    "* VIN (CHASIS): The number of the automobile chassis used for the trip.\n",
    "* COLOR: The color of the automobile used for the trip.\n",
    "* FAMILIA (AUTOMOBILE FAMILY): These can be heavy or light automobiles.\n",
    "* ORIGEN (ORIGIN): The starting point of the trip.\n",
    "* DESTINO (DESTINATION): The destination point of the trip. \n",
    "* PROVEEDOR (SUPPLIER): Who provides the transportion service in the trip.\n",
    "* MOTIVO TRASLADO (REASON FOR THE TRIP): Why is the reason of the trip?\n",
    "* OBSERVACIONES (OBSERVATIONS): The irregularities in the automobile. \n",
    "* LOCAL / REGIONAL: The trip was made in Lima or outside the region. \n",
    "* NUEVO / SEMINUEVO (NEW / USED): The autombile assigned to the trip is new or used. \n",
    "* VOLQUETE (TIPPER TRUCK): Was a Tipper truck used for the trip?\n",
    "* STATUS (STATUS): The trip status\n",
    "* CONDUCTOR (DRIVER): Who was the driver assigned to the trip?\n",
    "* LICENCIA (DRIVER'S LICENSE): The license number of the driver\n",
    "* PLACA (PLATE): LICENSE PLATE\n",
    "* GUIA DE REMISIÓN (REFERRAL GUIDE): The referral guide number.\n",
    "* FECHA DE INICIO (START DATE): When does the trip start?\n",
    "* HORA LLEGADA CONDUCTOR (DRIVER ARRIVAL TIME): What time did the driver arrive at the meeting point to pick up the automobile?\n",
    "* HORA DE INICIO DEL TRANSITO (TRANSIT START TIME): What time the driver started the trip.\n",
    "* FECHA DE LLEGADA (ARRIVAL DATE): When the driver delivered the automobile in the settled destination.\n",
    "* HORA DE LLEGADA DESTINO (ARRIVAL TIME): The time when the driver delivered the automobile in the final point\n",
    "* EMBARQUE (SHIPMENT): The Shipment ID\n",
    "* NRO. TRANSFERENCIA (TRANSFER NUMBER): The Transfer Number ID  \n",
    "* POR RENDIR S/ (BUDGET): How much money did the driver receive for his expenses during the trip? For exm: \n",
    "* FECHA TRANSFERENCIA (TRANSFER DATE): When did the driver receive the money for his expenses?\n",
    "* COMBUSTIBLE (FUEL): How much fuel has it been necessary to deliver during the trip?\n",
    "* CINTA REFLECTIVA (REFLECTIVE TAPE): Was it necessary to put a reflective tape to the automobile?\n",
    "* PARACHOQUE (BUMPER): Was it necessary to implement a bumper to the automobile?\n",
    "* HORAS DE ESPERA (WAITING HOURS): How many hours did the driver wait at the meeting point to pick up the automobile?\n",
    "* LAVADO (WASHING): Was it necessary to wash the automobile for the delivery?\n",
    "* REVISIÓN TÉCNICA (TECHNICAL-MECHANICAL REVIEW): Was it necessary to do a technical-mechanical review for the automobile?\n",
    "* OTROS (TRIP DETAILS): Additional information about the trip.\n",
    "* COMENTARIOS (COMMENTS): Additional information about the trip.\n",
    "* INCIDENTES DE TRANSITO / SINIESTROS (TRAFFIC INCIDENTS): The traffic incident(s) that occurred during the trip."
   ]
  },
  {
   "cell_type": "code",
   "execution_count": 2,
   "metadata": {},
   "outputs": [],
   "source": [
    "#Load the tranport company dataset\n",
    "df_TransportCompany = pd.read_excel(\n",
    "    io = '/home/carlosfol/Git_Projects/PSI_TRIPS/data/TRIPS_MADE.xlsx'\n",
    ")"
   ]
  }
 ],
 "metadata": {
  "kernelspec": {
   "display_name": "venv_tc",
   "language": "python",
   "name": "python3"
  },
  "language_info": {
   "codemirror_mode": {
    "name": "ipython",
    "version": 3
   },
   "file_extension": ".py",
   "mimetype": "text/x-python",
   "name": "python",
   "nbconvert_exporter": "python",
   "pygments_lexer": "ipython3",
   "version": "3.11.3"
  },
  "orig_nbformat": 4
 },
 "nbformat": 4,
 "nbformat_minor": 2
}
