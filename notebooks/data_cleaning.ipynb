{
 "cells": [
  {
   "cell_type": "code",
   "execution_count": 92,
   "metadata": {},
   "outputs": [],
   "source": [
    "import os\n",
    "import sys\n",
    "\n",
    "# Add the path to the parent repository\n",
    "path = os.path.abspath(os.path.join(os.getcwd(), \"..\"))\n",
    "sys_path = set(sys.path) # To avoid inserting many times\n",
    "if path not in sys_path:\n",
    "    sys.path.append(path)"
   ]
  },
  {
   "cell_type": "code",
   "execution_count": 93,
   "metadata": {},
   "outputs": [],
   "source": [
    "from datetime import datetime, time\n",
    "import json\n",
    "import matplotlib.pyplot as plt\n",
    "import numpy as np\n",
    "import os\n",
    "import pandas as pd\n",
    "from pandasql import sqldf\n",
    "import seaborn as sns\n",
    "from scripts.trip_management import DatetimesObj, DateTypes, FloatTimes, StrTimes, TripDuration\n",
    "from scripts.trip_expenses import Budget"
   ]
  },
  {
   "cell_type": "markdown",
   "metadata": {},
   "source": [
    "<h1 style = \"text-align: center; color: #4b8045; font-family: Verdana; font-size: 200%\">ANONYMOUS TRANSPORT COMPANY ANALYSIS 🚛</h1>\n",
    "\n",
    "<p style = \"font-family: Verdana\">First, I will provide a comprehensive overview of the variables included in our dataset because they are in Spanish:\n",
    "<ul style = \"font-family: Verdana\">\n",
    "    <li> \n",
    "    RECEPCIÓN CUENTAS (RECEIPT OF ACCOUNTS): <dd> It shows when the driver delivers his trip-related accounts, such as the signed remission guide, toll road expenses, invoices, and a summary of trip costs. These details are crucial for determining the driver's earnings for the trip they completed, allowing us to calculate the amount they will receive.\n",
    "    </li>\n",
    "    <li>\n",
    "    FECHA (DATE): <dd> The scheduled date of the trip.\n",
    "    </li>\n",
    "    <li>\n",
    "    HORA (HOUR): <dd> The scheduled time for the trip.\n",
    "    </li>\n",
    "    <li>\n",
    "    CLIENTE (CUSTOMER): <dd> It shows who requested the service.\n",
    "    </li>\n",
    "    <li>\n",
    "    MARCA (AUTOMOBILE BRAND): <dd> The brand of the automobile used for the trip.\n",
    "    </li>\n",
    "    <li>\n",
    "    MODELO (AUTOMOBILE MODEL): <dd> The model of the automobile used for the trip.\n",
    "    </li>\n",
    "    <li> \n",
    "    VIN (CHASIS): <dd> The number of the automobile chassis used for the trip.\n",
    "    </li>\n",
    "    <li>\n",
    "    COLOR: <dd> The color of the automobile used for the trip.\n",
    "    </li>\n",
    "    <li>\n",
    "    FAMILIA (AUTOMOBILE FAMILY): <dd> These can be heavy or light automobiles.\n",
    "    </li>\n",
    "    <li>\n",
    "    ORIGEN (ORIGIN): <dd> The starting point of the trip.\n",
    "    </li>\n",
    "    <li>\n",
    "    DESTINO (DESTINATION) <dd> The destination point of the trip.\n",
    "    </li> \n",
    "    <li>\n",
    "    PROVEEDOR (SUPPLIER): <dd> Who provides the transportion service in the trip.\n",
    "    </li>\n",
    "    <li>\n",
    "    MOTIVO TRASLADO (REASON FOR THE TRIP): <dd> Why is the reason of the trip?\n",
    "    </li>\n",
    "    <li>\n",
    "    OBSERVACIONES (OBSERVATIONS): <dd> The irregularities in the automobile.\n",
    "    </li>\n",
    "    <li> \n",
    "    LOCAL / REGIONAL: <dd> The trip was made in Lima or outside the region. \n",
    "    </li>\n",
    "    <li>\n",
    "    NUEVO / SEMINUEVO (NEW / USED): <dd> The autombile assigned to the trip is new or used.\n",
    "    </li>\n",
    "    <li> \n",
    "    VOLQUETE (TIPPER TRUCK): <dd> Was a Tipper truck used for the trip?\n",
    "    </li>\n",
    "    <li>\n",
    "    STATUS (STATUS): <dd> The trip status\n",
    "    </li>\n",
    "    <li>\n",
    "    CONDUCTOR (DRIVER): <dd> Who was the driver assigned to the trip?\n",
    "    </li>\n",
    "    <li>\n",
    "    LICENCIA (DRIVER'S LICENSE): <dd> The license number of the driver\n",
    "    </li>\n",
    "    <li>\n",
    "    PLACA (PLATE): <dd> LICENSE PLATE\n",
    "    </li>\n",
    "    <li>\n",
    "    GUIA DE REMISIÓN (REFERRAL GUIDE): <dd> The referral guide number.\n",
    "    </li>\n",
    "    <li>\n",
    "    FECHA DE INICIO (START DATE): <dd> When does the trip start?\n",
    "    </li>\n",
    "    <li>\n",
    "    HORA LLEGADA CONDUCTOR (DRIVER ARRIVAL TIME): <dd> What time did the driver arrive at the meeting point to pick up the automobile?\n",
    "    </li>\n",
    "    <li>\n",
    "    HORA DE INICIO DEL TRANSITO (TRANSIT START TIME): <dd> What time the driver started the trip.\n",
    "    </li>\n",
    "    <li>\n",
    "    FECHA DE LLEGADA (ARRIVAL DATE): <dd> When the driver delivered the automobile in the settled destination.\n",
    "    </li>\n",
    "    <li>\n",
    "    HORA DE LLEGADA DESTINO (ARRIVAL TIME): <dd> The time when the driver delivered the automobile in the final point\n",
    "    </li>\n",
    "    <li>\n",
    "    EMBARQUE (SHIPMENT): <dd> The Shipment ID\n",
    "    </li>\n",
    "    <li>\n",
    "    NRO. TRANSFERENCIA (TRANSFER NUMBER): <dd> The Transfer Number ID\n",
    "    </li>  \n",
    "    <li>\n",
    "    POR RENDIR S/ (BUDGET): <dd> How much money did the driver receive for his expenses during the trip?\n",
    "    </li>\n",
    "    <li>\n",
    "    FECHA TRANSFERENCIA (TRANSFER DATE): <dd> When did the driver receive the money for his expenses?\n",
    "    </li>\n",
    "    <li>\n",
    "    COMBUSTIBLE (FUEL): <dd> How much fuel has it been necessary to deliver during the trip?\n",
    "    </li>\n",
    "    <li>\n",
    "    CINTA REFLECTIVA (REFLECTIVE TAPE): <dd> Was it necessary to put a reflective tape to the automobile?\n",
    "    </li>\n",
    "    <li>\n",
    "    PARACHOQUE (BUMPER): <dd> Was it necessary to implement a bumper to the automobile?\n",
    "    </li>\n",
    "    <li>\n",
    "    HORAS DE ESPERA (WAITING HOURS): <dd> How many hours did the driver wait at the meeting point to pick up the automobile? If the driver waited x hours and this amount > 2, then the waiting hours = x - 2\n",
    "    </li>\n",
    "    <li> \n",
    "    LAVADO (WASHING): <dd> Was it necessary to wash the automobile for the delivery?\n",
    "    </li>\n",
    "    <li>\n",
    "    REVISIÓN TÉCNICA (TECHNICAL-MECHANICAL REVIEW): <dd> Was it necessary to do a technical-mechanical review for the automobile?\n",
    "    </li>\n",
    "    <li>\n",
    "    OTROS (TRIP DETAILS): <dd> Additional information about the trip.\n",
    "    </li>\n",
    "    <li>\n",
    "    COMENTARIOS (COMMENTS): <dd> Additional information about the trip.\n",
    "    </li>\n",
    "    <li>\n",
    "    INCIDENTES DE TRANSITO / SINIESTROS (TRAFFIC INCIDENTS): <dd> The traffic incident(s) that occurred during the trip.\n",
    "    </li>\n",
    "</ul>\n",
    "</p>\n",
    "<hr>"
   ]
  },
  {
   "cell_type": "code",
   "execution_count": 94,
   "metadata": {},
   "outputs": [],
   "source": [
    "#Load the tranport company dataset\n",
    "df_TransportCompany = pd.read_excel(\"../data/TRIPS_MADE.xlsx\")\n",
    "#Remove empty spaces in column names\n",
    "df_TransportCompany.columns = [c.strip() for c in df_TransportCompany.columns]"
   ]
  },
  {
   "cell_type": "markdown",
   "metadata": {},
   "source": [
    "<h2 style = \"font-family: Verdana; font-size: 150%; color: #857c7b\">Data Cleaning 🗑️</h1>"
   ]
  },
  {
   "cell_type": "code",
   "execution_count": 95,
   "metadata": {},
   "outputs": [
    {
     "data": {
      "image/png": "[encoded data removed]",
      "text/plain": [
       "<Figure size 800x800 with 1 Axes>"
      ]
     },
     "metadata": {},
     "output_type": "display_data"
    }
   ],
   "source": [
    "# Let's check the proportion of null data in the df\n",
    "df_nulldata_columns = pd.DataFrame({\n",
    "    'Null-Data': df_TransportCompany.isnull().mean(),\n",
    "})\n",
    "df_nulldata_columns['Valid-Data'] = 1 - df_nulldata_columns['Null-Data']\n",
    "# Plot the results\n",
    "df_nulldata_columns.plot(\n",
    "    kind = 'barh',\n",
    "    stacked = True,\n",
    "    figsize = (8, 8),\n",
    ")\n",
    "plt.title('NULL DATA IN COLUMNS', \n",
    "          fontdict = {'weight': 'bold'})\n",
    "plt.legend(bbox_to_anchor = (1, 1))\n",
    "plt.show()"
   ]
  },
  {
   "cell_type": "code",
   "execution_count": 96,
   "metadata": {},
   "outputs": [
    {
     "data": {
      "text/plain": [
       "np.float64(0.325)"
      ]
     },
     "execution_count": 96,
     "metadata": {},
     "output_type": "execute_result"
    }
   ],
   "source": [
    "#Which columns have a high pct of null data (50% <=) ?\n",
    "(\n",
    "    ( df_TransportCompany.\n",
    "     isnull().\n",
    "     mean() >= 0.5 ).sum() / \n",
    "    ( df_TransportCompany.\n",
    "    shape[1] )\n",
    ")"
   ]
  },
  {
   "cell_type": "markdown",
   "metadata": {},
   "source": [
    "<p style = \"font-family: Verdana\">It's normal to see various columns with a large amount of null data, because there were trips where it was not necessary to put a reflective tape or a bumper, refuel the car, do the Technical-Mechanical Review, etc. So we have to fill these null data with Missing values.</p>\n",
    "\n",
    "<p style = \"font-family: Verdana\">\n",
    "Another point to mention is that we can see at a glance that there are no trips with all null data in all columns. But, let's check if what I say is true.\n",
    "</p>"
   ]
  },
  {
   "cell_type": "code",
   "execution_count": 97,
   "metadata": {},
   "outputs": [
    {
     "data": {
      "image/png": "[encoded data removed]",
      "text/plain": [
       "<Figure size 500x300 with 1 Axes>"
      ]
     },
     "metadata": {},
     "output_type": "display_data"
    }
   ],
   "source": [
    "#What is the median of the null attributes in each trip \n",
    "(\n",
    "    ( (df_TransportCompany.\n",
    "    isnull().\n",
    "    mean(axis = 1)) * 100 ).\n",
    "    plot(\n",
    "        kind = 'box',\n",
    "        vert = False,\n",
    "        figsize = (5, 3)\n",
    "    )\n",
    ")\n",
    "plt.title('PCT OF NULL DATA OVER THE TRIPS', \n",
    "          fontdict={'weight': 'bold'})\n",
    "plt.show()"
   ]
  },
  {
   "cell_type": "markdown",
   "metadata": {},
   "source": [
    "<p style = \"font-family: Verdana\">We can see a significant proportion of trips that have a high pct of null data over their attributes. And as I mentioned before, it can be a good explanation that in the vast majority of the trips it was not necessary to implement anything extra (bumper, reflective tape, fuel) on the car and there were no incidents with it.</p>"
   ]
  },
  {
   "cell_type": "code",
   "execution_count": 98,
   "metadata": {},
   "outputs": [
    {
     "name": "stdout",
     "output_type": "stream",
     "text": [
      "1 trip(s) with only null data over its columns\n"
     ]
    }
   ],
   "source": [
    "null_trips = df_TransportCompany.loc[\n",
    "    ( df_TransportCompany.\n",
    "     isnull().\n",
    "     mean(axis = 1) ) == 1\n",
    "].index\n",
    "df_TransportCompany.drop(null_trips,\n",
    "                         axis = 0,\n",
    "                         inplace = True)\n",
    "print(f'{ len(null_trips) } trip(s) with only null data over its columns')"
   ]
  },
  {
   "cell_type": "code",
   "execution_count": 99,
   "metadata": {},
   "outputs": [],
   "source": [
    "# Let's fill in the null data of the columns related to the extra costs in a trip.\n",
    "trip_extra_costs = ['COMBUSTIBLE', 'CINTA REFLECTIVA', 'PARACHOQUE', \n",
    "                    'OBSERVACIONES', 'LAVADO', 'REVISIÓN TÉCNICA', \n",
    "                    'OTROS', 'COMENTARIOS', 'INCIDENTES DE TRANSITO / SINIESTROS']\n",
    "\n",
    "for extra_cost in trip_extra_costs:\n",
    "    df_TransportCompany.loc[:, extra_cost] = df_TransportCompany.loc[:, extra_cost].fillna('Missing')\n",
    "    \n",
    "# Assign new values to the VOLQUETE column\n",
    "df_TransportCompany['VOLQUETE'] = np.where(df_TransportCompany['VOLQUETE'] == 'SI', '1', \n",
    "                                           np.where(df_TransportCompany['VOLQUETE'] == 'NO','0', 'NOT SPECIFIED'))                                        \n",
    "\n",
    "# Since the np.where returns an homogeneus array (i.e the same dtype for all values)\n",
    "cond_number = df_TransportCompany['VOLQUETE'].str.isdecimal() # Condition to get the 1's and 0's values\n",
    "\n",
    "df_TransportCompany.loc[\n",
    "    cond_number, 'VOLQUETE'\n",
    "] = df_TransportCompany.loc[cond_number, 'VOLQUETE'].astype(int)"
   ]
  },
  {
   "cell_type": "markdown",
   "metadata": {},
   "source": [
    "<p style = \"font-family: Verdana\"> Well, I fill all the columns that don't necessary to have a validate value in the trip. </p> "
   ]
  },
  {
   "cell_type": "code",
   "execution_count": 100,
   "metadata": {},
   "outputs": [
    {
     "data": {
      "text/plain": [
       "array(['NOT SPECIFIED', 0, 1], dtype=object)"
      ]
     },
     "execution_count": 100,
     "metadata": {},
     "output_type": "execute_result"
    }
   ],
   "source": [
    "df_TransportCompany['VOLQUETE'].unique()"
   ]
  },
  {
   "cell_type": "markdown",
   "metadata": {},
   "source": [
    "<p style = \"font-family: Verdana\">But, I have a problem with the VOLQUETE column, because there are cases where it was specified if the driver used this type of vehicle or not in the trip. So I will have to try if I can predict this value according to the other variables. Maybe they can give me some help to fill this null data. </p>"
   ]
  },
  {
   "cell_type": "markdown",
   "metadata": {},
   "source": [
    "---\n",
    "\n",
    "<h4 style = 'font-family: Verdana; text-align: center'><strong>NULL-DATA IN WAITING HOURS</strong></h4>\n",
    "\n",
    "This column is the one who has the largest amount of null-data. But, we can know what value has to be in there by substracting the TRANSIT START TIME - DRIVER ARRIVAL TIME and check wheter this difference is greater than 2, because only in these cases can we say that there were waititng hours."
   ]
  },
  {
   "cell_type": "code",
   "execution_count": 101,
   "metadata": {},
   "outputs": [
    {
     "data": {
      "text/plain": [
       "HORA LLEGADA CONDUCTOR         object\n",
       "HORA DE INICIO DEL TRANSITO    object\n",
       "HORAS DE ESPERA                object\n",
       "dtype: object"
      ]
     },
     "execution_count": 101,
     "metadata": {},
     "output_type": "execute_result"
    }
   ],
   "source": [
    "important_columns = ['HORA LLEGADA CONDUCTOR', 'HORA DE INICIO DEL TRANSITO','HORAS DE ESPERA']\n",
    "df_waiting_hrs = df_TransportCompany.loc[:, important_columns].copy()\n",
    "\n",
    "#Before calculating the waiting hours, we have to be sure my columns are in the correct dtype\n",
    "df_waiting_hrs.dtypes"
   ]
  },
  {
   "cell_type": "markdown",
   "metadata": {},
   "source": [
    "Everything has an object dtype, so I would get an error if I tried to make operations with them. Also, I have to check which records I can work with, because if there is null data over the column **HORA LLEGADA CONDUCTOR** or **HORA DE INICIO DE TRANSITO**, then it will be impossible to obtain the waiting hours in that trip. So I will have to filter them."
   ]
  },
  {
   "cell_type": "code",
   "execution_count": 102,
   "metadata": {},
   "outputs": [],
   "source": [
    "# 1) To state if the record is validate or not it's not necessary the HORAS DE ESPERA column\n",
    "valid_records = (df_waiting_hrs.iloc[:, :-1].isnull() * 1).sum(axis = 1)\n",
    "\n",
    "# 2) Set a column that tells me if the record is valid or not (1 = True, 0 = False)\n",
    "valid_records = np.where(valid_records == 0, 1, 0)\n",
    "df_waiting_hrs['VALID DATA'] = valid_records"
   ]
  },
  {
   "cell_type": "code",
   "execution_count": 103,
   "metadata": {},
   "outputs": [
    {
     "data": {
      "image/png": "[encoded data removed]",
      "text/plain": [
       "<Figure size 300x300 with 1 Axes>"
      ]
     },
     "metadata": {},
     "output_type": "display_data"
    }
   ],
   "source": [
    "def good_format_time(time: datetime) -> int:\n",
    "    \"\"\"\n",
    "    Check if the valid data respect \n",
    "    the format HOURS:MINUTES:SECONDS\n",
    "\n",
    "    Args:\n",
    "        Date: datetime\n",
    "        Date to check its format\n",
    "\n",
    "    Returns:\n",
    "        int: Binary output\n",
    "    \"\"\"\n",
    "    time = str(time)\n",
    "    f_time = '00:00:00' \n",
    "    valid_len = len(f_time)\n",
    "    \n",
    "    # Get the index positions of colons in the string\n",
    "    colon_idx = [idx for idx, ch in enumerate(f_time) if ch == ':']\n",
    "    try:\n",
    "        has_d2_dot = np.all([True for position in colon_idx if time[position] == ':'])\n",
    "    except IndexError:\n",
    "        has_d2_dot = False\n",
    "    \n",
    "    if len(time) == valid_len and has_d2_dot:\n",
    "        return 1\n",
    "    else:\n",
    "        return 0\n",
    "\n",
    "\n",
    "# If a trip has valid data for both columns: 'HORA LLEGADA CONDUCTOR' (1) & 'HORA DE INICIO DEL TRANSITO'(1)\n",
    "df_waiting_hrs['VALID TIMES'] = df_waiting_hrs.pipe(\n",
    "    lambda df: df['HORA LLEGADA CONDUCTOR'].apply(good_format_time) +\n",
    "                df['HORA DE INICIO DEL TRANSITO'].apply(good_format_time)\n",
    ")\n",
    "\n",
    "# Check if both times are valid\n",
    "valid_times = np.where(df_waiting_hrs['VALID TIMES'] == 2, 1, 0)\n",
    "df_waiting_hrs['VALID TIMES'] = valid_times\n",
    "\n",
    "# Check the proportion of valid times in valid data\n",
    "df_vtimes_prop = df_waiting_hrs.iloc[:, -2:].sum()\n",
    "df_vtimes_prop['INVALID TIMES'] = df_vtimes_prop[\"VALID DATA\"] - df_vtimes_prop[\"VALID TIMES\"]\n",
    "# Graph\n",
    "df_vtimes_prop[1:].plot(\n",
    "    kind = 'pie',\n",
    "    title = 'VALID DATA',\n",
    "    autopct = '%.01f%%',\n",
    "    figsize = (3, 3)\n",
    ")\n",
    "plt.title('VALID DATA PROPORTION', fontdict={'weight': 'bold'})\n",
    "plt.show()"
   ]
  },
  {
   "cell_type": "markdown",
   "metadata": {},
   "source": [
    "As you can see, we can have valid data over the columns **HORA LLEGADA CONDUCTOR** and **HORA DE INICIO DE TRANSITO**. However, it's not necessary consistent data that we can use to calculate the waiting hours. So we need to check what kind of values there are across the group of invalid times."
   ]
  },
  {
   "cell_type": "code",
   "execution_count": 104,
   "metadata": {},
   "outputs": [
    {
     "data": {
      "text/html": [
       "<div>\n",
       "<style scoped>\n",
       "    .dataframe tbody tr th:only-of-type {\n",
       "        vertical-align: middle;\n",
       "    }\n",
       "\n",
       "    .dataframe tbody tr th {\n",
       "        vertical-align: top;\n",
       "    }\n",
       "\n",
       "    .dataframe thead th {\n",
       "        text-align: right;\n",
       "    }\n",
       "</style>\n",
       "<table border=\"1\" class=\"dataframe\">\n",
       "  <thead>\n",
       "    <tr style=\"text-align: right;\">\n",
       "      <th></th>\n",
       "      <th>Value</th>\n",
       "      <th>Frequency_HLC</th>\n",
       "      <th>Frequency_HIT</th>\n",
       "    </tr>\n",
       "  </thead>\n",
       "  <tbody>\n",
       "    <tr>\n",
       "      <th>0</th>\n",
       "      <td>-</td>\n",
       "      <td>106</td>\n",
       "      <td>136</td>\n",
       "    </tr>\n",
       "    <tr>\n",
       "      <th>1</th>\n",
       "      <td>FALSO FLETE</td>\n",
       "      <td>16</td>\n",
       "      <td>21</td>\n",
       "    </tr>\n",
       "    <tr>\n",
       "      <th>2</th>\n",
       "      <td>---</td>\n",
       "      <td>5</td>\n",
       "      <td>5</td>\n",
       "    </tr>\n",
       "    <tr>\n",
       "      <th>3</th>\n",
       "      <td>CANCELADO</td>\n",
       "      <td>5</td>\n",
       "      <td>5</td>\n",
       "    </tr>\n",
       "  </tbody>\n",
       "</table>\n",
       "</div>"
      ],
      "text/plain": [
       "         Value  Frequency_HLC  Frequency_HIT\n",
       "0            -            106            136\n",
       "1  FALSO FLETE             16             21\n",
       "2          ---              5              5\n",
       "3    CANCELADO              5              5"
      ]
     },
     "execution_count": 104,
     "metadata": {},
     "output_type": "execute_result"
    }
   ],
   "source": [
    "# Create a df that only contains the records who have invalid times\n",
    "is_valid = df_waiting_hrs['VALID DATA'] == 1\n",
    "inv_time = df_waiting_hrs['VALID TIMES'] == 0\n",
    "df_inv_times = df_waiting_hrs.loc[is_valid & inv_time, df_waiting_hrs.columns[:-3]].copy()\n",
    "\n",
    "# Let's check the 5 most common values and their frequencies in each variable.\n",
    "dict_common_val = dict()\n",
    "\n",
    "for col in df_inv_times.columns:\n",
    "    df_common_val = pd.DataFrame( \n",
    "                    df_inv_times.loc[:, col].value_counts()[:5].reset_index() )\n",
    "    df_common_val.columns = ['Value', 'Frequency']\n",
    "    dict_common_val[col] = df_common_val\n",
    "    \n",
    "# Make a merge to find similar values between the variables\n",
    "pd.merge(\n",
    "    left = dict_common_val['HORA LLEGADA CONDUCTOR'],\n",
    "    right = dict_common_val['HORA DE INICIO DEL TRANSITO'],\n",
    "    on = 'Value',\n",
    "    suffixes = ['_HLC', '_HIT'] #initials\n",
    ")"
   ]
  },
  {
   "cell_type": "markdown",
   "metadata": {},
   "source": [
    "Now, it's important to clarify the meaning of 2 words at this point:\n",
    "* **FALSO FLETE (FAKE CALL):** It occurs when the customer cancels the service at the last minute. And the transport company has to charge an amount of money for the offense committed \n",
    "* **CANCELADO:** It happens when the customer cancels the service in time. So, any action will be taken about it.\n",
    "\n",
    "It makes sense that I can't calculate anything with this kind of record, because the trip didn't happen. So, the plan is to exclude them and understand why there are values like '-' or '---'.  "
   ]
  },
  {
   "cell_type": "code",
   "execution_count": 105,
   "metadata": {},
   "outputs": [],
   "source": [
    "# Find those trips that have '-' as a value\n",
    "# dat: driver arrival time\n",
    "dat = df_inv_times.iloc[:, 0].astype(str).str.contains('-')\n",
    "# tst: transit start time \n",
    "tst = df_inv_times.iloc[:, 1].astype(str).str.contains('-')\n",
    "\n",
    "# Get their indexes\n",
    "idx_hyphen_val = df_inv_times[dat | tst].index\n",
    "\n",
    "# Go to the original database\n",
    "df_hyphen_val = df_TransportCompany.iloc[idx_hyphen_val, :].copy()"
   ]
  },
  {
   "cell_type": "markdown",
   "metadata": {},
   "source": [
    "There are 3 columns can give me useful information about why there is this kind of values across these columns:\n",
    "* **OBSERVACIONES (OBSERVATIONS):** This variable mentions about the irregularities with the assigned automobile in the trip.\n",
    "* **COMENTARIOS (COMMENTARIES):** It gives the similar information than OBSERVACIONES column\n",
    "* **STATUS:** It tells me if the trip was cancelled, finished or whatever. "
   ]
  },
  {
   "cell_type": "code",
   "execution_count": 106,
   "metadata": {},
   "outputs": [
    {
     "data": {
      "image/png": "[encoded data removed]",
      "text/plain": [
       "<Figure size 600x300 with 1 Axes>"
      ]
     },
     "metadata": {},
     "output_type": "display_data"
    }
   ],
   "source": [
    "#Plot the Status values\n",
    "my_pltt = sns.color_palette(\"deep\")\n",
    "(\n",
    "    df_hyphen_val.\n",
    "    loc[:, 'STATUS'].\n",
    "    value_counts().\n",
    "    plot(\n",
    "        kind = 'bar',\n",
    "        rot = 0,\n",
    "        color = my_pltt,\n",
    "        figsize = (6, 3)\n",
    "    )\n",
    ")\n",
    "plt.title('TRIP STATUS', \n",
    "          fontdict = {'weight': 'bold',\n",
    "                      'size': 'large'})\n",
    "plt.show()"
   ]
  },
  {
   "cell_type": "markdown",
   "metadata": {},
   "source": [
    "Well, it's very strange to see that there are trips that were made despite the fact that there was no valid time registered either in **HORA LLEGADA CONDUCTOR** and **HORA DE INICIO DE TRANSITO** or both. How can the transport company know if it has to charge the customer for hours of waiting without this information? This was a significant mistake by who did not do it.\n",
    "\n",
    "On the other hand, we can see the other status are **FALSO FLETE (FAKE CALL)**, **CANCELADO (CANCELED)** and **REPROGRAMADO (REPROGRAMMED)**. And now it's more understandable why they decided to fill these camps with '-' values, because it means that in this group there are the trips that were not made. So, the plan is to change these values for one by default to make easier the task of filterting when we want to calculate the waiting hours, since as we could see there are some that are '-', '--' or '---'. Likewise, it's necessary to do the same with those ones that have values like **FALSO FLETE** or **CANCELADO**.\n",
    "\n",
    "On the other hand, I still have null data across these columns, but I've decided to fill them with the same default value."
   ]
  },
  {
   "cell_type": "code",
   "execution_count": 107,
   "metadata": {},
   "outputs": [],
   "source": [
    "# Hyphen:\n",
    "df_TransportCompany.loc[idx_hyphen_val, important_columns[:-1]] = 'Unregistered'\n",
    "\n",
    "# Fake call or canceled:\n",
    "fake_call_or_cancelled = df_TransportCompany.iloc[:, [23, 24]].isin(\n",
    "    ['FALSO FLETE', 'CANCELADO']\n",
    ").any(axis = 1)\n",
    "df_TransportCompany.loc[fake_call_or_cancelled, important_columns[:-1]] = 'Unregistered'\n",
    "\n",
    "# Null data: dat -> driver arrival time ; tst -> transit start time \n",
    "null_dat = df_TransportCompany.iloc[:, 23].isnull()\n",
    "null_tst = df_TransportCompany.iloc[:, 24].isnull()\n",
    "null_times = df_TransportCompany.loc[null_dat | null_tst, important_columns[:-1]].fillna(\n",
    "    'Unregistered'\n",
    ")\n",
    "df_TransportCompany.loc[null_dat | null_tst, important_columns[:-1]] = null_times\n",
    "\n",
    "# Invalid waiting hours\n",
    "unregistered_cond = df_TransportCompany.iloc[:, [23, 24]].isin(\n",
    "    ['Unregistered']\n",
    ").any(axis = 1)\n",
    "df_TransportCompany.loc[unregistered_cond, 'HORAS DE ESPERA'] = 'Invalid'"
   ]
  },
  {
   "cell_type": "markdown",
   "metadata": {},
   "source": [
    "We should make sure that all the trips that have invalid times according to the df_waiting_hours have the value 'Invalid' in the **HORAS DE ESPERA** column. "
   ]
  },
  {
   "cell_type": "code",
   "execution_count": 108,
   "metadata": {},
   "outputs": [
    {
     "data": {
      "text/html": [
       "<div>\n",
       "<style scoped>\n",
       "    .dataframe tbody tr th:only-of-type {\n",
       "        vertical-align: middle;\n",
       "    }\n",
       "\n",
       "    .dataframe tbody tr th {\n",
       "        vertical-align: top;\n",
       "    }\n",
       "\n",
       "    .dataframe thead th {\n",
       "        text-align: right;\n",
       "    }\n",
       "</style>\n",
       "<table border=\"1\" class=\"dataframe\">\n",
       "  <thead>\n",
       "    <tr style=\"text-align: right;\">\n",
       "      <th></th>\n",
       "      <th>HORA LLEGADA CONDUCTOR</th>\n",
       "      <th>HORA DE INICIO DEL TRANSITO</th>\n",
       "      <th>HORAS DE ESPERA</th>\n",
       "    </tr>\n",
       "  </thead>\n",
       "  <tbody>\n",
       "    <tr>\n",
       "      <th>1304</th>\n",
       "      <td>15:51:00</td>\n",
       "      <td>16:09:00.</td>\n",
       "      <td>NaN</td>\n",
       "    </tr>\n",
       "    <tr>\n",
       "      <th>2025</th>\n",
       "      <td>0.791667</td>\n",
       "      <td>0.820833</td>\n",
       "      <td>NaN</td>\n",
       "    </tr>\n",
       "  </tbody>\n",
       "</table>\n",
       "</div>"
      ],
      "text/plain": [
       "     HORA LLEGADA CONDUCTOR HORA DE INICIO DEL TRANSITO HORAS DE ESPERA\n",
       "1304               15:51:00                   16:09:00.             NaN\n",
       "2025               0.791667                    0.820833             NaN"
      ]
     },
     "execution_count": 108,
     "metadata": {},
     "output_type": "execute_result"
    }
   ],
   "source": [
    "not_unregistered = [df_TransportCompany[col] != 'Unregistered' \n",
    "                   for col in important_columns[:-1]]\n",
    "invalid_times = df_waiting_hrs['VALID TIMES'] == 0\n",
    "(\n",
    "    df_TransportCompany.loc[\n",
    "    not_unregistered[0] & not_unregistered[1] & invalid_times,\n",
    "    important_columns\n",
    "    ]\n",
    ")"
   ]
  },
  {
   "cell_type": "markdown",
   "metadata": {},
   "source": [
    "As you can see, we have two trips that don't respect what we mentioned before:\n",
    "* In the column **HORA DE INICIO DEL TRANSITO** of row 1304, the times has a dot at the end. So, this is solved by removing it.\n",
    "* In row 2025, there are two times expressed in float numbers. That doesn't make sense, that's why we're gonna replace them with 'Unregistered' value."
   ]
  },
  {
   "cell_type": "code",
   "execution_count": 109,
   "metadata": {},
   "outputs": [],
   "source": [
    "#Typo at the end\n",
    "v_time = str(df_TransportCompany.loc[1304, important_columns[1]]).replace('.', '')\n",
    "df_TransportCompany.loc[1304, important_columns[1]] = v_time\n",
    "#Float values \n",
    "df_TransportCompany.loc[2025, important_columns[:-1]] = 'Unregistered'\n",
    "df_TransportCompany.loc[2025, important_columns[-1]] = 'Invalid'"
   ]
  },
  {
   "cell_type": "code",
   "execution_count": 110,
   "metadata": {},
   "outputs": [
    {
     "data": {
      "text/plain": [
       "HORA LLEGADA CONDUCTOR         0\n",
       "HORA DE INICIO DEL TRANSITO    0\n",
       "HORAS DE ESPERA                0\n",
       "dtype: int64"
      ]
     },
     "execution_count": 110,
     "metadata": {},
     "output_type": "execute_result"
    }
   ],
   "source": [
    "def are_valid_whours(waiting_hrs: pd.Series) -> pd.Series:\n",
    "    \"\"\"\n",
    "    Check if the driver had to wait \n",
    "    2 hours or more to start with the trip.\n",
    "\n",
    "    Args: \n",
    "        Waiting_hrs: pd.Series\n",
    "            Waiting hours of a trip\n",
    "    Returns:\n",
    "        pd.Series\n",
    "            Assign Not WH for those trips that \n",
    "            does not satisfy the condition\n",
    "    \"\"\"\n",
    "    waiting_hrs[waiting_hrs < 2] = 0\n",
    "    return waiting_hrs\n",
    "\n",
    "def convert_time_to_float(times: pd.Series) -> pd.Series:\n",
    "    \"\"\"\n",
    "    It converts the time in float where \n",
    "    the decimal part is the hours and the \n",
    "    fractional part is the minutes\n",
    "\n",
    "    Args:\n",
    "        times: pd.Series\n",
    "            Times registered\n",
    "    Returns:\n",
    "        pd.Series\n",
    "            Array of times cast to float numbers\n",
    "    \"\"\"\n",
    "    float_times = times.astype(str).apply(\n",
    "        lambda time: time[:2] + '.' + time[3:5] #HH:MM:SS\n",
    "        ).astype(float)\n",
    "    return float_times\n",
    "\n",
    "\n",
    "# Valid data to get the waiting hours:\n",
    "valid_dat = df_TransportCompany['HORA LLEGADA CONDUCTOR'] != 'Unregistered'\n",
    "valid_tst = df_TransportCompany['HORA DE INICIO DEL TRANSITO'] != 'Unregistered'\n",
    "\n",
    "# Convert the times into float numbers to do the substraction operation\n",
    "df_float_times = df_TransportCompany.loc[valid_dat & valid_tst, important_columns[:-1]].apply(\n",
    "    convert_time_to_float\n",
    ")\n",
    "df_TransportCompany.loc[valid_dat & valid_tst, 'HORAS DE ESPERA'] = are_valid_whours(\n",
    "        (df_float_times.iloc[:, 1] - df_float_times.iloc[:, 0]).round(2)\n",
    "        )\n",
    "\n",
    "#Check that there is no null data\n",
    "(df_TransportCompany[important_columns].isnull() * 1).sum()"
   ]
  },
  {
   "cell_type": "markdown",
   "metadata": {},
   "source": [
    "---\n",
    "\n",
    "<h4 style = 'font-family: Verdana; text-align: center'><strong>NULL-DATA IN TRANSFER DATE</strong></h4>\n",
    "\n",
    "Another column that we have a significant amount of null data is **FECHA TRANSFERENCIA (Transfer Date)**. And as it was mentioned at the beginning of this noteebook, it consists of the date that the driver gets the necessary money for his expenses during the trip.\n",
    "\n",
    "The plan is to use the same date as the **FECHA INICIO (Start Date)** column, because the driver always receive his transfer on the same day that he starts the trip. But first, we have to check if these dates are less or equal than those in **FECHA DE LLEGADA (Arrival date)** column, otherwise that wouldn't be consistent. "
   ]
  },
  {
   "cell_type": "code",
   "execution_count": 111,
   "metadata": {},
   "outputs": [
    {
     "data": {
      "image/png": "[encoded data removed]",
      "text/plain": [
       "<Figure size 400x300 with 1 Axes>"
      ]
     },
     "metadata": {},
     "output_type": "display_data"
    }
   ],
   "source": [
    "(\n",
    "    df_TransportCompany.\n",
    "    melt(\n",
    "        value_vars = ['FECHA DE INICIO',\n",
    "                      'FECHA DE LLEGADA'],\n",
    "        value_name = 'DATES'\n",
    "        ).\n",
    "    apply(\n",
    "        lambda x: type(x['DATES']),\n",
    "        axis = 1\n",
    "        ).\n",
    "    value_counts().\n",
    "    sort_values(\n",
    "        ascending = True\n",
    "        ).\n",
    "    plot(\n",
    "        kind ='barh',\n",
    "        color = my_pltt,\n",
    "        figsize = (4, 3)\n",
    "    )\n",
    ")\n",
    "plt.title('Objects in Start and Arrival Dates\\n', \n",
    "          fontdict = {'weight': 'bold',\n",
    "                      'size': 'large'})\n",
    "plt.show()"
   ]
  },
  {
   "cell_type": "markdown",
   "metadata": {},
   "source": [
    "There are different objects surrounding these two columns and this will be a problem when we want to perform operations with them. So it's important to cast them to datetime.datetime object. But meanwhile, we can see if those that have the correct type accomplish the previous condition (ARRIVAL TIME >  START TIME)."
   ]
  },
  {
   "cell_type": "code",
   "execution_count": 112,
   "metadata": {},
   "outputs": [
    {
     "data": {
      "image/png": "[encoded data removed]",
      "text/plain": [
       "<Figure size 300x400 with 1 Axes>"
      ]
     },
     "metadata": {},
     "output_type": "display_data"
    }
   ],
   "source": [
    "trip_dates = DatetimesObj(df_tc=df_TransportCompany)\n",
    "(\n",
    "    pd.Series({\n",
    "        'Consistent': trip_dates.filter_by_relationship().shape[0],\n",
    "        'Inconsistent': trip_dates.filter_by_relationship(consistent=False).shape[0]\n",
    "        }).\n",
    "    plot(\n",
    "        kind = 'pie',\n",
    "        explode = [0, 0.25],\n",
    "        autopct = '%.01f%%',\n",
    "        figsize=(3, 4)\n",
    "    )\n",
    ")\n",
    "plt.title('Relationship between\\nArrival date and Start date', \n",
    "          fontdict = {'weight': 'bold',\n",
    "                      'size': 'large'})\n",
    "plt.show()"
   ]
  },
  {
   "cell_type": "markdown",
   "metadata": {},
   "source": [
    "We'll need to check other variables to confirm if either the start date or the arrival date is incorrect to replace it. And the following columns can give us relevant information about it:\n",
    "* **FECHA**: When the trip was recorded in the dataset.\n",
    "* **ORIGEN** and **DESTINO**: These columns make up the route. And if we see others with the same data, we can estimate the journey time.\n",
    "* **FECHA DE TRANSFERENCIA**: If there's not a null value, then it can help us to confirm that the start date is correct."
   ]
  },
  {
   "cell_type": "code",
   "execution_count": 113,
   "metadata": {},
   "outputs": [
    {
     "data": {
      "text/html": [
       "<div>\n",
       "<style scoped>\n",
       "    .dataframe tbody tr th:only-of-type {\n",
       "        vertical-align: middle;\n",
       "    }\n",
       "\n",
       "    .dataframe tbody tr th {\n",
       "        vertical-align: top;\n",
       "    }\n",
       "\n",
       "    .dataframe thead th {\n",
       "        text-align: right;\n",
       "    }\n",
       "</style>\n",
       "<table border=\"1\" class=\"dataframe\">\n",
       "  <thead>\n",
       "    <tr style=\"text-align: right;\">\n",
       "      <th></th>\n",
       "      <th>FECHA</th>\n",
       "      <th>FECHA DE INICIO</th>\n",
       "      <th>FECHA DE LLEGADA</th>\n",
       "      <th>ORIGEN</th>\n",
       "      <th>DESTINO</th>\n",
       "      <th>FECHA TRANSFERENCIA</th>\n",
       "    </tr>\n",
       "  </thead>\n",
       "  <tbody>\n",
       "    <tr>\n",
       "      <th>403</th>\n",
       "      <td>2023-08-07</td>\n",
       "      <td>2023-08-07 00:00:00</td>\n",
       "      <td>2023-07-08 00:00:00</td>\n",
       "      <td>SUC. TRUJILLO</td>\n",
       "      <td>SUC. HUARAZ</td>\n",
       "      <td>NaN</td>\n",
       "    </tr>\n",
       "    <tr>\n",
       "      <th>476</th>\n",
       "      <td>2023-08-09</td>\n",
       "      <td>2023-08-09 00:00:00</td>\n",
       "      <td>2023-08-08 00:00:00</td>\n",
       "      <td>MACROPOLIS</td>\n",
       "      <td>RMB VES</td>\n",
       "      <td>2023-08-09 00:00:00</td>\n",
       "    </tr>\n",
       "    <tr>\n",
       "      <th>1631</th>\n",
       "      <td>2023-09-18</td>\n",
       "      <td>2023-09-18 00:00:00</td>\n",
       "      <td>2023-08-19 00:00:00</td>\n",
       "      <td>CD LURIN</td>\n",
       "      <td>SUC. AREQUIPA</td>\n",
       "      <td>18/09 Y 20/09</td>\n",
       "    </tr>\n",
       "  </tbody>\n",
       "</table>\n",
       "</div>"
      ],
      "text/plain": [
       "          FECHA      FECHA DE INICIO     FECHA DE LLEGADA         ORIGEN  \\\n",
       "403  2023-08-07  2023-08-07 00:00:00  2023-07-08 00:00:00  SUC. TRUJILLO   \n",
       "476  2023-08-09  2023-08-09 00:00:00  2023-08-08 00:00:00     MACROPOLIS   \n",
       "1631 2023-09-18  2023-09-18 00:00:00  2023-08-19 00:00:00       CD LURIN   \n",
       "\n",
       "            DESTINO  FECHA TRANSFERENCIA  \n",
       "403     SUC. HUARAZ                  NaN  \n",
       "476         RMB VES  2023-08-09 00:00:00  \n",
       "1631  SUC. AREQUIPA        18/09 Y 20/09  "
      ]
     },
     "execution_count": 113,
     "metadata": {},
     "output_type": "execute_result"
    }
   ],
   "source": [
    "(\n",
    "    trip_dates.\n",
    "    filter_by_relationship(consistent=False).\n",
    "    loc[:, ['FECHA', 'FECHA DE INICIO', 'FECHA DE LLEGADA', \n",
    "         'ORIGEN', 'DESTINO', 'FECHA TRANSFERENCIA']]\n",
    ")"
   ]
  },
  {
   "cell_type": "markdown",
   "metadata": {},
   "source": [
    "All the start dates are correct by checking in **FECHA** and **FECHA TRANSFERENCIA** column, even though there's a NaN value in record 403, but we'll asume that the start date is correct anyway. On the other hand, we'll have to look at other trips with a similar route to estimate the journey time and thus calculate the values in **FECHA DE LLEGADA** column."
   ]
  },
  {
   "cell_type": "code",
   "execution_count": 114,
   "metadata": {},
   "outputs": [
    {
     "data": {
      "image/png": "[encoded data removed]",
      "text/plain": [
       "<Figure size 300x400 with 1 Axes>"
      ]
     },
     "metadata": {},
     "output_type": "display_data"
    },
    {
     "data": {
      "text/plain": [
       "Correct      1790\n",
       "Incorrect      23\n",
       "dtype: int64"
      ]
     },
     "execution_count": 114,
     "metadata": {},
     "output_type": "execute_result"
    }
   ],
   "source": [
    "# Use the columns Transit Start Time and Arrival Time to check the format time\n",
    "start_arr_times = trip_dates.filter_by_relationship().loc[:, \n",
    "                                                   ['HORA DE INICIO DEL TRANSITO', \n",
    "                                                    'HORA DE LLEGADA DESTINO']\n",
    "                                                   ].copy()\n",
    "start_arr_times['Correct_Format'] = start_arr_times.loc[:, \n",
    "                                                        ['HORA DE INICIO DEL TRANSITO',\n",
    "                                                         'HORA DE LLEGADA DESTINO']].map(\n",
    "                                                             good_format_time\n",
    "                                                             ).sum(axis = 1)\n",
    "\n",
    "# Visualize the proportion of correct times in both columns\n",
    "time_format = start_arr_times['Correct_Format'].value_counts()\n",
    "time_format[1] = time_format[[1, 0]].sum(); time_format = time_format[[2, 1]]\n",
    "time_format.index = ['Correct', 'Incorrect']\n",
    "time_format.name = None\n",
    "\n",
    "#Graph\n",
    "time_format.plot(\n",
    "    kind = 'pie',\n",
    "    autopct = '%.01f%%',\n",
    "    figsize = (3, 4),\n",
    "    explode = (0, 0.6)\n",
    ")\n",
    "plt.title('TIME FORMAT IN\\nSTART TRANSIT TIME AND ARRIVAL TIME', \n",
    "          fontdict = {'weight': 'bold',\n",
    "                      'size': 'large'})\n",
    "plt.show()\n",
    "time_format"
   ]
  },
  {
   "cell_type": "code",
   "execution_count": 115,
   "metadata": {},
   "outputs": [
    {
     "data": {
      "text/plain": [
       "Correct_Format\n",
       "2    1790\n",
       "1      14\n",
       "0       9\n",
       "Name: count, dtype: int64"
      ]
     },
     "execution_count": 115,
     "metadata": {},
     "output_type": "execute_result"
    }
   ],
   "source": [
    "start_arr_times['Correct_Format'] = start_arr_times.apply(\n",
    "    lambda x:\n",
    "        good_format_time(x['HORA DE INICIO DEL TRANSITO']) + \n",
    "        good_format_time(x['HORA DE LLEGADA DESTINO']), axis = 1\n",
    "    )\n",
    "start_arr_times.Correct_Format.value_counts()"
   ]
  },
  {
   "cell_type": "markdown",
   "metadata": {},
   "source": [
    "We've removed all the null data over the **HORA DE INICIO DEL TRANSITO** column in the above section (NULL DATA IN WAITING HOURS), so the most likelihood is that there are Unregistered values in this column and for this reason we get times with a incorrect format."
   ]
  },
  {
   "cell_type": "code",
   "execution_count": 116,
   "metadata": {},
   "outputs": [
    {
     "data": {
      "text/plain": [
       "HORA DE INICIO DEL TRANSITO\n",
       "Unregistered    12\n",
       "13:15:00         1\n",
       "13:51:00         1\n",
       "17:01:00         1\n",
       "09:50:00         1\n",
       "Name: count, dtype: int64"
      ]
     },
     "execution_count": 116,
     "metadata": {},
     "output_type": "execute_result"
    }
   ],
   "source": [
    "(\n",
    "    start_arr_times.loc[\n",
    "        start_arr_times['Correct_Format'] != 2,\n",
    "        'HORA DE INICIO DEL TRANSITO'\n",
    "        ].\n",
    "    value_counts()[:5]\n",
    ")"
   ]
  },
  {
   "cell_type": "code",
   "execution_count": 117,
   "metadata": {},
   "outputs": [
    {
     "data": {
      "text/plain": [
       "HORA DE LLEGADA DESTINO\n",
       "NaN         8\n",
       "-           1\n",
       "17:58:00    1\n",
       "09:49:00    1\n",
       "20:24:00    1\n",
       "Name: count, dtype: int64"
      ]
     },
     "execution_count": 117,
     "metadata": {},
     "output_type": "execute_result"
    }
   ],
   "source": [
    "(\n",
    "    start_arr_times.loc[\n",
    "        start_arr_times['HORA DE INICIO DEL TRANSITO'] == 'Unregistered',\n",
    "        'HORA DE LLEGADA DESTINO'\n",
    "        ].\n",
    "    value_counts(\n",
    "        dropna = False\n",
    "    )\n",
    ")"
   ]
  },
  {
   "cell_type": "markdown",
   "metadata": {},
   "source": [
    "It makes sense there are null data in the arrival time column, since these trips weren't made. So we can fill them with Unregistered too. And the one that has '-' as its value should have to change for the same."
   ]
  },
  {
   "cell_type": "code",
   "execution_count": 118,
   "metadata": {},
   "outputs": [],
   "source": [
    "start_arr_times['HORA DE LLEGADA DESTINO'] = start_arr_times['HORA DE LLEGADA DESTINO'].fillna('-')\n",
    "\n",
    "null_arr_time = start_arr_times[\n",
    "    start_arr_times['HORA DE LLEGADA DESTINO'] == '-'\n",
    "    ].index\n",
    "df_TransportCompany.loc[null_arr_time, 'HORA DE LLEGADA DESTINO'] = 'Unregistered'"
   ]
  },
  {
   "cell_type": "markdown",
   "metadata": {},
   "source": [
    "On the other hand, we have a inconsistent problem here. Since if it supposed that there wasn't a start transit time, how is it possible that there are times registered in arrival times?"
   ]
  },
  {
   "cell_type": "code",
   "execution_count": 119,
   "metadata": {},
   "outputs": [
    {
     "data": {
      "text/plain": [
       "STATUS\n",
       "EN DESTINO    3\n",
       "Name: count, dtype: int64"
      ]
     },
     "execution_count": 119,
     "metadata": {},
     "output_type": "execute_result"
    }
   ],
   "source": [
    "unrgt_times = start_arr_times[\n",
    "        (start_arr_times['HORA DE INICIO DEL TRANSITO'] == 'Unregistered')\n",
    "        & (start_arr_times['HORA DE LLEGADA DESTINO'] != '-')\n",
    "].index\n",
    "\n",
    "(\n",
    "    df_TransportCompany.\n",
    "    loc[ \n",
    "    unrgt_times,\n",
    "    'STATUS'\n",
    "    ].\n",
    "    value_counts()\n",
    ") "
   ]
  },
  {
   "cell_type": "markdown",
   "metadata": {},
   "source": [
    "The status of the trips that have a consistent time in **ARRIVAL TIME** column, but an Unregistered value in the **START TRANSIT TIME**, is **EN DESTINO (AT DESTINATION)**. This means that they were made. But, it's pointless. So this data won't be useful for estimating the journey time, so we'll fill these values with Unregistered. "
   ]
  },
  {
   "cell_type": "code",
   "execution_count": 120,
   "metadata": {},
   "outputs": [],
   "source": [
    "df_TransportCompany.loc[unrgt_times, 'HORA DE LLEGADA DESTINO'] = 'Unregistered'"
   ]
  },
  {
   "cell_type": "code",
   "execution_count": 121,
   "metadata": {},
   "outputs": [
    {
     "data": {
      "text/html": [
       "<div>\n",
       "<style scoped>\n",
       "    .dataframe tbody tr th:only-of-type {\n",
       "        vertical-align: middle;\n",
       "    }\n",
       "\n",
       "    .dataframe tbody tr th {\n",
       "        vertical-align: top;\n",
       "    }\n",
       "\n",
       "    .dataframe thead th {\n",
       "        text-align: right;\n",
       "    }\n",
       "</style>\n",
       "<table border=\"1\" class=\"dataframe\">\n",
       "  <thead>\n",
       "    <tr style=\"text-align: right;\">\n",
       "      <th></th>\n",
       "      <th>HORA DE INICIO DEL TRANSITO</th>\n",
       "      <th>HORA DE LLEGADA DESTINO</th>\n",
       "      <th>Correct_Format</th>\n",
       "    </tr>\n",
       "  </thead>\n",
       "  <tbody>\n",
       "    <tr>\n",
       "      <th>1332</th>\n",
       "      <td>07:45:00</td>\n",
       "      <td>16:23:00.</td>\n",
       "      <td>1</td>\n",
       "    </tr>\n",
       "    <tr>\n",
       "      <th>1734</th>\n",
       "      <td>12:34:00</td>\n",
       "      <td>6.51.00</td>\n",
       "      <td>1</td>\n",
       "    </tr>\n",
       "    <tr>\n",
       "      <th>1963</th>\n",
       "      <td>16:01:00</td>\n",
       "      <td>18:38:00 a. m.</td>\n",
       "      <td>1</td>\n",
       "    </tr>\n",
       "  </tbody>\n",
       "</table>\n",
       "</div>"
      ],
      "text/plain": [
       "     HORA DE INICIO DEL TRANSITO HORA DE LLEGADA DESTINO  Correct_Format\n",
       "1332                    07:45:00               16:23:00.               1\n",
       "1734                    12:34:00                 6.51.00               1\n",
       "1963                    16:01:00          18:38:00 a. m.               1"
      ]
     },
     "execution_count": 121,
     "metadata": {},
     "output_type": "execute_result"
    }
   ],
   "source": [
    "(\n",
    "    start_arr_times[\n",
    "    (start_arr_times['Correct_Format'] != 2)\n",
    "    & (start_arr_times['HORA DE INICIO DEL TRANSITO'] != 'Unregistered')\n",
    "    & (start_arr_times['HORA DE LLEGADA DESTINO'] != '-')\n",
    "    ]\n",
    ")"
   ]
  },
  {
   "cell_type": "code",
   "execution_count": 122,
   "metadata": {},
   "outputs": [],
   "source": [
    "# Fix the last trips with an inconsistent time in ARRIVAL TIME column\n",
    "df_TransportCompany.loc[1332, 'HORA DE LLEGADA DESTINO'] = '16:23:00'\n",
    "df_TransportCompany.loc[1734, 'HORA DE LLEGADA DESTINO'] = '06:51:00'\n",
    "df_TransportCompany.loc[1963, 'HORA DE LLEGADA DESTINO'] = '18:38:00'\n",
    "\n",
    "# Update the content\n",
    "trip_dates.dt_table = df_TransportCompany "
   ]
  },
  {
   "cell_type": "markdown",
   "metadata": {},
   "source": [
    "Once we've fixed all the start transit times and arrival times of those trips that have datetime objects over these columns and respect the condition: **Start Date < Arrival Date**. We'll be able to calculate the arrival date in those trips that don't fulfill the condition and estimate the arrival times where there are 'Unregistered' values, despite the fact that they have a start transit time.    "
   ]
  },
  {
   "cell_type": "code",
   "execution_count": 124,
   "metadata": {},
   "outputs": [
    {
     "name": "stdout",
     "output_type": "stream",
     "text": [
      "All the trips respect the condition: Star date < Arrival date\n"
     ]
    }
   ],
   "source": [
    "trip_duration = TripDuration(df_tc=df_TransportCompany)\n",
    "\n",
    "# Inconsistent arrival times\n",
    "incon_arr_times = trip_duration.get_correct_arr_date(\n",
    "    trip_dates.filter_by_relationship(consistent=False)\n",
    "    )\n",
    "\n",
    "# Unregistered arrival times\n",
    "unrg_arr_times = trip_dates.filter_by_relationship()\n",
    "unrg_arr_times = unrg_arr_times[unrg_arr_times.apply(\n",
    "    lambda x: x['HORA DE LLEGADA DESTINO'] == 'Unregistered' and\n",
    "        x['HORA DE INICIO DEL TRANSITO'] != 'Unregistered',\n",
    "        axis = 1\n",
    ")]\n",
    "unrgt_arr_times = trip_duration.get_correct_arr_date(unrg_arr_times)\n",
    "\n",
    "# Combine them \n",
    "correct_arr_dates = pd.concat([incon_arr_times, unrgt_arr_times])\n",
    "\n",
    "# Reeplace them in the original db\n",
    "df_TransportCompany.loc[correct_arr_dates.index, 'FECHA DE LLEGADA'] = correct_arr_dates.apply(\n",
    "    lambda x: x.date()\n",
    ")\n",
    "df_TransportCompany.loc[correct_arr_dates.index, 'HORA DE LLEGADA DESTINO'] = correct_arr_dates.apply(\n",
    "    lambda x: x.time()\n",
    ")\n",
    "# Autofill the transfer date column with the start dates\n",
    "df_TransportCompany.loc[\n",
    "    trip_dates.dt_table.index,'FECHA TRANSFERENCIA'\n",
    "    ] = df_TransportCompany.loc[\n",
    "        trip_dates.dt_table.index, 'FECHA DE INICIO'\n",
    "        ]\n",
    "# Update the content and check that everything is okay\n",
    "trip_dates.dt_table = df_TransportCompany\n",
    "if trip_dates.filter_by_relationship(consistent=False).shape[0] == 0:\n",
    "    print('All the trips respect the condition: Star date < Arrival date')"
   ]
  },
  {
   "cell_type": "markdown",
   "metadata": {},
   "source": [
    "Now, we have to deal with those trips that have another kind of dtype in these columns. Let's start with those that are str objects and try to cast them to datetime objects."
   ]
  },
  {
   "cell_type": "code",
   "execution_count": 125,
   "metadata": {},
   "outputs": [
    {
     "data": {
      "image/png": "[encoded data removed]",
      "text/plain": [
       "<Figure size 200x300 with 1 Axes>"
      ]
     },
     "metadata": {},
     "output_type": "display_data"
    }
   ],
   "source": [
    "strtimes = StrTimes(df_tc=df_TransportCompany)\n",
    "strtimes.presence_in_db()"
   ]
  },
  {
   "cell_type": "code",
   "execution_count": 131,
   "metadata": {},
   "outputs": [
    {
     "data": {
      "text/html": [
       "<div>\n",
       "<style scoped>\n",
       "    .dataframe tbody tr th:only-of-type {\n",
       "        vertical-align: middle;\n",
       "    }\n",
       "\n",
       "    .dataframe tbody tr th {\n",
       "        vertical-align: top;\n",
       "    }\n",
       "\n",
       "    .dataframe thead th {\n",
       "        text-align: right;\n",
       "    }\n",
       "</style>\n",
       "<table border=\"1\" class=\"dataframe\">\n",
       "  <thead>\n",
       "    <tr style=\"text-align: right;\">\n",
       "      <th></th>\n",
       "      <th></th>\n",
       "      <th></th>\n",
       "      <th>freq</th>\n",
       "    </tr>\n",
       "    <tr>\n",
       "      <th>Pair</th>\n",
       "      <th>Date</th>\n",
       "      <th>Dtype</th>\n",
       "      <th></th>\n",
       "    </tr>\n",
       "  </thead>\n",
       "  <tbody>\n",
       "    <tr>\n",
       "      <th rowspan=\"2\" valign=\"top\">1</th>\n",
       "      <th>FECHA DE INICIO</th>\n",
       "      <th>&lt;class 'datetime.datetime'&gt;</th>\n",
       "      <td>59</td>\n",
       "    </tr>\n",
       "    <tr>\n",
       "      <th>FECHA DE LLEGADA</th>\n",
       "      <th>&lt;class 'str'&gt;</th>\n",
       "      <td>59</td>\n",
       "    </tr>\n",
       "    <tr>\n",
       "      <th rowspan=\"2\" valign=\"top\">2</th>\n",
       "      <th>FECHA DE INICIO</th>\n",
       "      <th>&lt;class 'str'&gt;</th>\n",
       "      <td>115</td>\n",
       "    </tr>\n",
       "    <tr>\n",
       "      <th>FECHA DE LLEGADA</th>\n",
       "      <th>&lt;class 'str'&gt;</th>\n",
       "      <td>115</td>\n",
       "    </tr>\n",
       "  </tbody>\n",
       "</table>\n",
       "</div>"
      ],
      "text/plain": [
       "                                                   freq\n",
       "Pair Date             Dtype                            \n",
       "1    FECHA DE INICIO  <class 'datetime.datetime'>    59\n",
       "     FECHA DE LLEGADA <class 'str'>                  59\n",
       "2    FECHA DE INICIO  <class 'str'>                 115\n",
       "     FECHA DE LLEGADA <class 'str'>                 115"
      ]
     },
     "execution_count": 131,
     "metadata": {},
     "output_type": "execute_result"
    }
   ],
   "source": [
    "strtimes.table_pairs"
   ]
  },
  {
   "cell_type": "markdown",
   "metadata": {},
   "source": [
    "As you can see, we have two groups with str values. One where both dates are strings and the other where the arrival date is the only one. So, let's find out the reason for this. "
   ]
  },
  {
   "cell_type": "code",
   "execution_count": 132,
   "metadata": {},
   "outputs": [
    {
     "data": {
      "text/plain": [
       "FECHA DE LLEGADA\n",
       "-              50\n",
       "FALSO FLETE     9\n",
       "Name: count, dtype: int64"
      ]
     },
     "execution_count": 132,
     "metadata": {},
     "output_type": "execute_result"
    }
   ],
   "source": [
    "# Get the groups\n",
    "groups = DateTypes(df_tc=df_TransportCompany)\n",
    "pair_1 = groups.customized_dtypes(dtype_dd=datetime, dtype_ad=str)\n",
    "pair_2 = groups.customized_dtypes(dtype_ad=str, dtype_dd=str)\n",
    "(\n",
    "    pair_1['FECHA DE LLEGADA']\n",
    "    .value_counts()\n",
    ")"
   ]
  },
  {
   "cell_type": "markdown",
   "metadata": {},
   "source": [
    "In the first group, there are trips that weren't made and others where the arrival date was filled with a '-'.\n",
    "\n",
    "Recall: **FALSO FLETE (Fake call)** means when the customer cancels the service at the last moment. "
   ]
  },
  {
   "cell_type": "code",
   "execution_count": 119,
   "metadata": {},
   "outputs": [
    {
     "data": {
      "image/png": "[encoded data removed]",
      "text/plain": [
       "<Figure size 300x200 with 1 Axes>"
      ]
     },
     "metadata": {},
     "output_type": "display_data"
    }
   ],
   "source": [
    "fig  = plt.figure(figsize=(3, 2))\n",
    "\n",
    "ax = fig.add_axes([0, 0, 1, 1])\n",
    "(\n",
    "    pd.merge(\n",
    "        left = pair_1[pair_1['FECHA DE LLEGADA'] == '-'], \n",
    "        right = df_TransportCompany[['STATUS']],\n",
    "        left_index=True, right_index=True\n",
    "    ).\n",
    "    pipe(\n",
    "        lambda df: \n",
    "            sns.countplot(\n",
    "                data=df, y = 'STATUS',\n",
    "                )\n",
    "    )\n",
    ")\n",
    "ax.set_title(\"STATUS FOR\\nARRIVAL DATES WITH '-'\", fontdict={'weight': 'bold'})\n",
    "\n",
    "plt.show()"
   ]
  },
  {
   "cell_type": "markdown",
   "metadata": {},
   "source": [
    "It turns out that they are also trips that weren't made: **FALSO FLETE (FAKE CALL)**, **CANCELADO (CANCELLED)** and **REPROGRAMADO (REPROGRAMMED)**. And if the data is consistency, then we will be in the same situation with the **ARRIVAL TIME** column:"
   ]
  },
  {
   "cell_type": "code",
   "execution_count": 133,
   "metadata": {},
   "outputs": [
    {
     "data": {
      "text/plain": [
       "HORA DE LLEGADA DESTINO\n",
       "-              50\n",
       "FALSO FLETE     9\n",
       "Name: count, dtype: int64"
      ]
     },
     "execution_count": 133,
     "metadata": {},
     "output_type": "execute_result"
    }
   ],
   "source": [
    "(\n",
    "    pd.merge(\n",
    "        left = pair_1,\n",
    "        right = df_TransportCompany.loc[:, ['HORA DE LLEGADA DESTINO']],\n",
    "        left_index=True, right_index=True\n",
    "    ).\n",
    "    value_counts('HORA DE LLEGADA DESTINO')\n",
    ")"
   ]
  },
  {
   "cell_type": "markdown",
   "metadata": {},
   "source": [
    "Ta-da! So, we need to fill the columns related with the dates of these trips with Unregistered values."
   ]
  },
  {
   "cell_type": "code",
   "execution_count": 134,
   "metadata": {},
   "outputs": [],
   "source": [
    "dates_columns = ['FECHA DE INICIO', 'FECHA DE LLEGADA', 'FECHA TRANSFERENCIA',\n",
    "                 'HORA DE INICIO DEL TRANSITO', 'HORA DE LLEGADA DESTINO']\n",
    "\n",
    "df_TransportCompany.loc[pair_1.index, dates_columns] = 'Unregistered'"
   ]
  },
  {
   "cell_type": "code",
   "execution_count": 135,
   "metadata": {},
   "outputs": [
    {
     "data": {
      "image/png": "[encoded data removed]",
      "text/plain": [
       "<Figure size 500x300 with 1 Axes>"
      ]
     },
     "metadata": {},
     "output_type": "display_data"
    }
   ],
   "source": [
    "# Let's see what happened in the pair 2\n",
    "plt.figure(figsize=(5, 3))\n",
    "(\n",
    "    pd.merge(\n",
    "        left = pair_2, \n",
    "        right = df_TransportCompany['STATUS'],\n",
    "        left_index=True, \n",
    "        right_index=True\n",
    "        ).\n",
    "    melt(id_vars=['STATUS']).\n",
    "    pipe(\n",
    "        lambda df:\n",
    "            sns.countplot(\n",
    "                data = df, \n",
    "                y = 'value',\n",
    "                hue = 'STATUS',\n",
    "                order = df.value.value_counts().index\n",
    "            )\n",
    "    )\n",
    " )\n",
    "plt.title('THE MOST COMMON VALUES\\nIN THE PAIR 2', \n",
    "          fontdict = {'weight': 'bold'})\n",
    "plt.show()"
   ]
  },
  {
   "cell_type": "markdown",
   "metadata": {},
   "source": [
    "You might think that we're in the same situation with the pair 1, but that's not entirely true. Because there are trips whose status is **EN DESTINO (At Destination)** and have a '-' either as a start or arrival date. So, we need to find out if it's possible to get these dates through the trip duration table that we've built.\n",
    "\n",
    "Recall: **At Destination** status means when the trip was made."
   ]
  },
  {
   "cell_type": "code",
   "execution_count": 136,
   "metadata": {},
   "outputs": [
    {
     "data": {
      "text/html": [
       "<div>\n",
       "<style scoped>\n",
       "    .dataframe tbody tr th:only-of-type {\n",
       "        vertical-align: middle;\n",
       "    }\n",
       "\n",
       "    .dataframe tbody tr th {\n",
       "        vertical-align: top;\n",
       "    }\n",
       "\n",
       "    .dataframe thead th {\n",
       "        text-align: right;\n",
       "    }\n",
       "</style>\n",
       "<table border=\"1\" class=\"dataframe\">\n",
       "  <thead>\n",
       "    <tr style=\"text-align: right;\">\n",
       "      <th></th>\n",
       "      <th>1224</th>\n",
       "    </tr>\n",
       "  </thead>\n",
       "  <tbody>\n",
       "    <tr>\n",
       "      <th>FECHA</th>\n",
       "      <td>2023-09-02 00:00:00</td>\n",
       "    </tr>\n",
       "    <tr>\n",
       "      <th>HORA</th>\n",
       "      <td>13:00:00</td>\n",
       "    </tr>\n",
       "    <tr>\n",
       "      <th>FECHA DE INICIO</th>\n",
       "      <td>-</td>\n",
       "    </tr>\n",
       "    <tr>\n",
       "      <th>FECHA DE LLEGADA</th>\n",
       "      <td>-</td>\n",
       "    </tr>\n",
       "    <tr>\n",
       "      <th>FECHA TRANSFERENCIA</th>\n",
       "      <td>NaN</td>\n",
       "    </tr>\n",
       "    <tr>\n",
       "      <th>HORA DE INICIO DEL TRANSITO</th>\n",
       "      <td>Unregistered</td>\n",
       "    </tr>\n",
       "    <tr>\n",
       "      <th>HORA DE LLEGADA DESTINO</th>\n",
       "      <td>-</td>\n",
       "    </tr>\n",
       "    <tr>\n",
       "      <th>STATUS</th>\n",
       "      <td>EN DESTINO</td>\n",
       "    </tr>\n",
       "  </tbody>\n",
       "</table>\n",
       "</div>"
      ],
      "text/plain": [
       "                                            1224\n",
       "FECHA                        2023-09-02 00:00:00\n",
       "HORA                                    13:00:00\n",
       "FECHA DE INICIO                                -\n",
       "FECHA DE LLEGADA                               -\n",
       "FECHA TRANSFERENCIA                          NaN\n",
       "HORA DE INICIO DEL TRANSITO         Unregistered\n",
       "HORA DE LLEGADA DESTINO                        -\n",
       "STATUS                                EN DESTINO"
      ]
     },
     "execution_count": 136,
     "metadata": {},
     "output_type": "execute_result"
    }
   ],
   "source": [
    "(\n",
    "    pd.merge(\n",
    "        left=pair_2,\n",
    "        right= df_TransportCompany[df_TransportCompany['STATUS'] == 'EN DESTINO'],\n",
    "        left_index=True,\n",
    "        right_index=True,\n",
    "        suffixes = ['_x', '']\n",
    "    ).\n",
    "    loc[\n",
    "        :, ['FECHA', 'HORA'] + dates_columns + ['STATUS']\n",
    "        ].T\n",
    ")"
   ]
  },
  {
   "cell_type": "markdown",
   "metadata": {},
   "source": [
    "We have an observation with this particular behavior, but it's going to be impossible to fix it. Because we only have the date when the trip was registered in the database, but that's not useful for our purposes. So we have to take the same actions as for the pair 1."
   ]
  },
  {
   "cell_type": "code",
   "execution_count": 137,
   "metadata": {},
   "outputs": [
    {
     "name": "stdout",
     "output_type": "stream",
     "text": [
      "There are no more str values\n"
     ]
    }
   ],
   "source": [
    "df_TransportCompany.loc[pair_2.index, dates_columns] = 'Unregistered' \n",
    "\n",
    "# Check that there are no more str values\n",
    "not_str = ~(df_TransportCompany.loc[:, \n",
    "                                    ['FECHA DE INICIO', 'FECHA DE LLEGADA']].isin(\n",
    "                                    ['Unregistered']).any(axis = 1))\n",
    "strtimes.str_table = df_TransportCompany[not_str]\n",
    "\n",
    "if strtimes.str_table.shape[0] == 0:\n",
    "    print('There are no more str values')\n",
    "\n",
    "# Remove the record 1224 for being inconsistency\n",
    "df_TransportCompany.drop(1224, axis = 0, inplace = True)"
   ]
  },
  {
   "cell_type": "markdown",
   "metadata": {},
   "source": [
    "Now, it's time to deal with the dates that are float values and try to understand why they are there and if it's possible to replace them with the trip duration table."
   ]
  },
  {
   "cell_type": "code",
   "execution_count": 138,
   "metadata": {},
   "outputs": [
    {
     "data": {
      "image/png": "[encoded data removed]",
      "text/plain": [
       "<Figure size 200x300 with 1 Axes>"
      ]
     },
     "metadata": {},
     "output_type": "display_data"
    }
   ],
   "source": [
    "floattimes = FloatTimes(df_tc=df_TransportCompany)\n",
    "floattimes.presence_in_db()"
   ]
  },
  {
   "cell_type": "code",
   "execution_count": 140,
   "metadata": {},
   "outputs": [
    {
     "data": {
      "text/html": [
       "<div>\n",
       "<style scoped>\n",
       "    .dataframe tbody tr th:only-of-type {\n",
       "        vertical-align: middle;\n",
       "    }\n",
       "\n",
       "    .dataframe tbody tr th {\n",
       "        vertical-align: top;\n",
       "    }\n",
       "\n",
       "    .dataframe thead th {\n",
       "        text-align: right;\n",
       "    }\n",
       "</style>\n",
       "<table border=\"1\" class=\"dataframe\">\n",
       "  <thead>\n",
       "    <tr style=\"text-align: right;\">\n",
       "      <th></th>\n",
       "      <th></th>\n",
       "      <th></th>\n",
       "      <th>freq</th>\n",
       "    </tr>\n",
       "    <tr>\n",
       "      <th>Pair</th>\n",
       "      <th>Date</th>\n",
       "      <th>Dtype</th>\n",
       "      <th></th>\n",
       "    </tr>\n",
       "  </thead>\n",
       "  <tbody>\n",
       "    <tr>\n",
       "      <th rowspan=\"2\" valign=\"top\">1</th>\n",
       "      <th>FECHA DE INICIO</th>\n",
       "      <th>&lt;class 'datetime.datetime'&gt;</th>\n",
       "      <td>47</td>\n",
       "    </tr>\n",
       "    <tr>\n",
       "      <th>FECHA DE LLEGADA</th>\n",
       "      <th>&lt;class 'float'&gt;</th>\n",
       "      <td>47</td>\n",
       "    </tr>\n",
       "    <tr>\n",
       "      <th rowspan=\"2\" valign=\"top\">2</th>\n",
       "      <th>FECHA DE INICIO</th>\n",
       "      <th>&lt;class 'float'&gt;</th>\n",
       "      <td>52</td>\n",
       "    </tr>\n",
       "    <tr>\n",
       "      <th>FECHA DE LLEGADA</th>\n",
       "      <th>&lt;class 'float'&gt;</th>\n",
       "      <td>52</td>\n",
       "    </tr>\n",
       "    <tr>\n",
       "      <th rowspan=\"2\" valign=\"top\">3</th>\n",
       "      <th>FECHA DE INICIO</th>\n",
       "      <th>&lt;class 'float'&gt;</th>\n",
       "      <td>1</td>\n",
       "    </tr>\n",
       "    <tr>\n",
       "      <th>FECHA DE LLEGADA</th>\n",
       "      <th>&lt;class 'datetime.datetime'&gt;</th>\n",
       "      <td>1</td>\n",
       "    </tr>\n",
       "  </tbody>\n",
       "</table>\n",
       "</div>"
      ],
      "text/plain": [
       "                                                   freq\n",
       "Pair Date             Dtype                            \n",
       "1    FECHA DE INICIO  <class 'datetime.datetime'>    47\n",
       "     FECHA DE LLEGADA <class 'float'>                47\n",
       "2    FECHA DE INICIO  <class 'float'>                52\n",
       "     FECHA DE LLEGADA <class 'float'>                52\n",
       "3    FECHA DE INICIO  <class 'float'>                 1\n",
       "     FECHA DE LLEGADA <class 'datetime.datetime'>     1"
      ]
     },
     "execution_count": 140,
     "metadata": {},
     "output_type": "execute_result"
    }
   ],
   "source": [
    "floattimes.table_pairs"
   ]
  },
  {
   "cell_type": "markdown",
   "metadata": {},
   "source": [
    "In this case, we have 3 pairs where at least one of the dates is a float object. And if there are not null values in the start transit time column for pair 1, then we can get the arrival dates from the trip duration table. "
   ]
  },
  {
   "cell_type": "code",
   "execution_count": 142,
   "metadata": {},
   "outputs": [
    {
     "data": {
      "text/plain": [
       "FECHA DE LLEGADA\n",
       "Missing    47\n",
       "Name: count, dtype: int64"
      ]
     },
     "execution_count": 142,
     "metadata": {},
     "output_type": "execute_result"
    }
   ],
   "source": [
    "df_pair_1 = groups.customized_dtypes(dtype_dd=datetime, dtype_ad=float)\n",
    "df_pair_1['FECHA DE LLEGADA'].fillna('Missing').value_counts()"
   ]
  },
  {
   "cell_type": "markdown",
   "metadata": {},
   "source": [
    "The NaN are floating-point values for NumPy. The data in this column won't be useful anyway, so it's not a problem"
   ]
  },
  {
   "cell_type": "code",
   "execution_count": 143,
   "metadata": {},
   "outputs": [
    {
     "data": {
      "image/png": "[encoded data removed]",
      "text/plain": [
       "<Figure size 500x300 with 1 Axes>"
      ]
     },
     "metadata": {},
     "output_type": "display_data"
    }
   ],
   "source": [
    "df_pair_1 =pd.merge(\n",
    "        left = df_pair_1,\n",
    "        right = df_TransportCompany[['STATUS']],\n",
    "        left_index = True, \n",
    "        right_index = True\n",
    "        )\n",
    "\n",
    "# Which status do we have? \n",
    "plt.figure(figsize=(5, 3))\n",
    "(\n",
    "    df_pair_1.\n",
    "    pipe(\n",
    "        lambda df:\n",
    "        sns.countplot(\n",
    "            data = df,\n",
    "            y = 'STATUS',\n",
    "            order = df_pair_1['STATUS'].value_counts().index\n",
    "        )\n",
    "    )\n",
    ")\n",
    "plt.title('STATUS IN PAIR 1', fontdict={'weight': 'bold'})\n",
    "plt.show()"
   ]
  },
  {
   "cell_type": "markdown",
   "metadata": {},
   "source": [
    "* In the pair 1, we have found 3 new statuses that we didn't see before:\n",
    "    * PROGRAMADO (Scheduled): A trip that is scheduled for a future date.   \n",
    "    * EN TRANSITO (On the move): When the driver is on the way of the destination.\n",
    "    * EN ORIGEN (At origin): If the driver is at the starting point, but there are not instruction to start with the trip.\n",
    "* For those trips whose status is either **FALSO FLETE (Fake Call)** or **CANCELADO (Cancelled)**, we'll need to fill their arrival data with the 'Unregistered' value.\n",
    "* For the trips with the following statutes: **EN ORIGEN (At origin)**, **EN TRANSITO (On the move)** and **EN DESTINO (At destination)**. We'll use the trip duration table to get their arrival dates, assuming there was no problem with the trips that were at the starting point.\n",
    "* There will be a inconsistency problem if the start transit time has been recorded in those trips whose status is **PROGRAMADO (Scheduled)**, because it assumes that these trips are scheduled for a future date. So we need to check them before taking any action. "
   ]
  },
  {
   "cell_type": "code",
   "execution_count": 144,
   "metadata": {},
   "outputs": [
    {
     "data": {
      "text/plain": [
       "np.int64(3)"
      ]
     },
     "execution_count": 144,
     "metadata": {},
     "output_type": "execute_result"
    }
   ],
   "source": [
    "# 1) Fill with Unregistered values the missing ones.\n",
    "not_done = df_pair_1[df_pair_1['STATUS'].isin(['FALSO FLETE', 'CANCELADO'])]\n",
    "df_TransportCompany.loc[not_done.index, 'FECHA DE LLEGADA'] = 'Unregistered'\n",
    "\n",
    "# 2) Use the trip duration table to get the arrival dates\n",
    "done_trips = pd.merge(\n",
    "    left = df_pair_1[df_pair_1['STATUS'].isin(['EN ORIGEN', 'EN TRANSITO','EN DESTINO'])],\n",
    "    right = df_TransportCompany[['HORA DE INICIO DEL TRANSITO', 'ORIGEN', 'DESTINO']],\n",
    "    left_index = True,\n",
    "    right_index = True\n",
    ")\n",
    "# Assign a default start transit time to those that have Unregistered values\n",
    "np.random.seed(42)\n",
    "done_trips.loc[\n",
    "    done_trips['HORA DE INICIO DEL TRANSITO'] == 'Unregistered', \n",
    "    'HORA DE INICIO DEL TRANSITO'\n",
    "    ] = time(np.random.randint(13, 19), 0, 0)\n",
    "correct_ad = trip_duration.get_correct_arr_date(done_trips)\n",
    "# Check if there are null dates\n",
    "correct_ad.isnull().sum()"
   ]
  },
  {
   "cell_type": "markdown",
   "metadata": {},
   "source": [
    "It returned 3 arrival dates as a null date, because there are routes that weren't in the trip duration table. So we'll have to fill them with the Unregistered value.  "
   ]
  },
  {
   "cell_type": "code",
   "execution_count": 145,
   "metadata": {},
   "outputs": [],
   "source": [
    "# Fill the arrival date and time columns with Unregistered values\n",
    "for col in ['FECHA DE LLEGADA', 'HORA DE LLEGADA DESTINO']:\n",
    "    df_TransportCompany.loc[\n",
    "    correct_arr_dates[correct_arr_dates.isnull()].index,\n",
    "    col] = 'Unregistered'\n",
    "    \n",
    "# Record the arrival date and time for others.\n",
    "valid_ad = correct_ad.dropna()\n",
    "df_TransportCompany.loc[valid_ad.index, 'FECHA DE LLEGADA'] = valid_ad.apply(lambda x: x.date())\n",
    "df_TransportCompany.loc[valid_ad.index, 'HORA DE LLEGADA DESTINO'] = valid_ad.apply(lambda x: x.time())\n",
    "# Change their status to 'EN DESTINO'\n",
    "df_TransportCompany.loc[valid_ad.index, 'STATUS'] = 'EN DESTINO'"
   ]
  },
  {
   "cell_type": "code",
   "execution_count": 148,
   "metadata": {},
   "outputs": [
    {
     "data": {
      "text/plain": [
       "HORA DE INICIO DEL TRANSITO\n",
       "Unregistered    7\n",
       "Name: count, dtype: int64"
      ]
     },
     "execution_count": 148,
     "metadata": {},
     "output_type": "execute_result"
    }
   ],
   "source": [
    "scheduled_trips = pd.merge(\n",
    "        left = df_pair_1[df_pair_1['STATUS'] == 'PROGRAMADO'],\n",
    "        right = df_TransportCompany[['HORA DE INICIO DEL TRANSITO', 'ORIGEN', 'DESTINO']],\n",
    "        left_index = True, right_index = True\n",
    "        )\n",
    "\n",
    "scheduled_trips.loc[:, 'HORA DE INICIO DEL TRANSITO'].value_counts()"
   ]
  },
  {
   "cell_type": "markdown",
   "metadata": {},
   "source": [
    "It makes sense that there are only Unregistered values in the start transit time for the scheduled trips.\n",
    "\n",
    "Now, we can get the transfer date of the trips whose status is either **EN DESTINO (At destination)**, **EN TRANSITO (On the move)** or **EN ORIGEN (At origin)** with their respective start date. "
   ]
  },
  {
   "cell_type": "code",
   "execution_count": 150,
   "metadata": {},
   "outputs": [],
   "source": [
    "valid_status = df_TransportCompany['STATUS'].isin(['EN DESTINO', 'EN TRANSITO', 'EN ORIGEN'])\n",
    "\n",
    "df_TransportCompany.loc[\n",
    "    valid_status, 'FECHA TRANSFERENCIA'\n",
    "    ] = df_TransportCompany.loc[\n",
    "        valid_status, 'FECHA DE INICIO'\n",
    "        ]\n",
    "\n",
    "# For the rest, we will fill the transfer date with Unregistered values.\n",
    "df_TransportCompany[\"FECHA TRANSFERENCIA\"] = df_TransportCompany['FECHA TRANSFERENCIA'].fillna('Unregistered')"
   ]
  },
  {
   "cell_type": "markdown",
   "metadata": {},
   "source": [
    "At this point, we know that the trips with unregistered values in either the departure or arrival date are those that were not taken. So, it's important to make sure that the columns related to the time are filled with Unregistered values."
   ]
  },
  {
   "cell_type": "code",
   "execution_count": 151,
   "metadata": {},
   "outputs": [],
   "source": [
    "df_TransportCompany.loc[\n",
    "        (df_TransportCompany['FECHA DE LLEGADA'] == 'Unregistered')\n",
    "        | (df_TransportCompany['FECHA DE INICIO'] == 'Unregistered'), \n",
    "        ['FECHA DE LLEGADA', 'FECHA DE INICIO', 'HORA DE LLEGADA DESTINO',\n",
    "         'HORA DE INICIO DEL TRANSITO']\n",
    "    ] = 'Unregistered'"
   ]
  },
  {
   "cell_type": "markdown",
   "metadata": {},
   "source": [
    "We will do the same with those trips that have null values in any of these columns and whose status is not at destination, on the move or at origin."
   ]
  },
  {
   "cell_type": "code",
   "execution_count": 152,
   "metadata": {},
   "outputs": [],
   "source": [
    "df_TransportCompany.loc[\n",
    "    (df_TransportCompany['FECHA DE INICIO'].isnull()| \n",
    "     df_TransportCompany['FECHA DE LLEGADA'].isnull() ) & \n",
    "    ~( df_TransportCompany['STATUS'].isin(['EN DESTINO', 'EN TRANSITO', 'EN ORIGEN']) ),\n",
    "['FECHA DE LLEGADA', 'FECHA DE INICIO', \n",
    " 'HORA DE LLEGADA DESTINO', 'HORA DE INICIO DEL TRANSITO']\n",
    "] = 'Unregistered' "
   ]
  },
  {
   "cell_type": "code",
   "execution_count": 153,
   "metadata": {},
   "outputs": [
    {
     "data": {
      "text/html": [
       "<div>\n",
       "<style scoped>\n",
       "    .dataframe tbody tr th:only-of-type {\n",
       "        vertical-align: middle;\n",
       "    }\n",
       "\n",
       "    .dataframe tbody tr th {\n",
       "        vertical-align: top;\n",
       "    }\n",
       "\n",
       "    .dataframe thead th {\n",
       "        text-align: right;\n",
       "    }\n",
       "</style>\n",
       "<table border=\"1\" class=\"dataframe\">\n",
       "  <thead>\n",
       "    <tr style=\"text-align: right;\">\n",
       "      <th></th>\n",
       "      <th>FECHA DE INICIO</th>\n",
       "      <th>FECHA DE LLEGADA</th>\n",
       "      <th>HORA DE INICIO DEL TRANSITO</th>\n",
       "      <th>HORA DE LLEGADA DESTINO</th>\n",
       "      <th>STATUS</th>\n",
       "    </tr>\n",
       "  </thead>\n",
       "  <tbody>\n",
       "    <tr>\n",
       "      <th>1647</th>\n",
       "      <td>NaN</td>\n",
       "      <td>NaN</td>\n",
       "      <td>Unregistered</td>\n",
       "      <td>NaN</td>\n",
       "      <td>EN DESTINO</td>\n",
       "    </tr>\n",
       "    <tr>\n",
       "      <th>2026</th>\n",
       "      <td>NaN</td>\n",
       "      <td>NaN</td>\n",
       "      <td>Unregistered</td>\n",
       "      <td>NaN</td>\n",
       "      <td>EN TRANSITO</td>\n",
       "    </tr>\n",
       "    <tr>\n",
       "      <th>2050</th>\n",
       "      <td>2023-09-30 00:00:00</td>\n",
       "      <td>NaN</td>\n",
       "      <td>Unregistered</td>\n",
       "      <td>NaN</td>\n",
       "      <td>EN TRANSITO</td>\n",
       "    </tr>\n",
       "    <tr>\n",
       "      <th>2062</th>\n",
       "      <td>2023-10-01 00:00:00</td>\n",
       "      <td>NaN</td>\n",
       "      <td>16:36:00</td>\n",
       "      <td>NaN</td>\n",
       "      <td>EN TRANSITO</td>\n",
       "    </tr>\n",
       "    <tr>\n",
       "      <th>2076</th>\n",
       "      <td>2023-10-02 00:00:00</td>\n",
       "      <td>NaN</td>\n",
       "      <td>Unregistered</td>\n",
       "      <td>NaN</td>\n",
       "      <td>EN ORIGEN</td>\n",
       "    </tr>\n",
       "  </tbody>\n",
       "</table>\n",
       "</div>"
      ],
      "text/plain": [
       "          FECHA DE INICIO FECHA DE LLEGADA HORA DE INICIO DEL TRANSITO  \\\n",
       "1647                  NaN              NaN                Unregistered   \n",
       "2026                  NaN              NaN                Unregistered   \n",
       "2050  2023-09-30 00:00:00              NaN                Unregistered   \n",
       "2062  2023-10-01 00:00:00              NaN                    16:36:00   \n",
       "2076  2023-10-02 00:00:00              NaN                Unregistered   \n",
       "\n",
       "     HORA DE LLEGADA DESTINO       STATUS  \n",
       "1647                     NaN   EN DESTINO  \n",
       "2026                     NaN  EN TRANSITO  \n",
       "2050                     NaN  EN TRANSITO  \n",
       "2062                     NaN  EN TRANSITO  \n",
       "2076                     NaN    EN ORIGEN  "
      ]
     },
     "execution_count": 153,
     "metadata": {},
     "output_type": "execute_result"
    }
   ],
   "source": [
    "(\n",
    "df_TransportCompany.loc[\n",
    "    df_TransportCompany['FECHA DE INICIO'].isnull() | df_TransportCompany['FECHA DE LLEGADA'].isnull(),\n",
    " ['FECHA DE INICIO', 'FECHA DE LLEGADA', 'HORA DE INICIO DEL TRANSITO', \n",
    "  'HORA DE LLEGADA DESTINO', 'STATUS']\n",
    "]\n",
    ")"
   ]
  },
  {
   "cell_type": "markdown",
   "metadata": {},
   "source": [
    "They are the only trips that have null values in either the start or arrival date, but their status tells us that they were not cancelled. Below are the actions that we'll take:\n",
    "* It will be impossible to do anything for the trips 1647 and 2026. So we'll have to delete them from the dataset.\n",
    "* Since we have the start transit time and start date for the trip 2062, we can find its arrival date.\n",
    "* We only have the start date for the trips 2050 and 2076, but we can assign them a random start transit time to get their arrival dates.\n",
    "\n",
    "We hope that the routes of the trips in the second and third point are in the trip duration table to avoid inconveniences."
   ]
  },
  {
   "cell_type": "code",
   "execution_count": 154,
   "metadata": {},
   "outputs": [
    {
     "data": {
      "text/plain": [
       "NaT    3\n",
       "Name: count, dtype: int64"
      ]
     },
     "execution_count": 154,
     "metadata": {},
     "output_type": "execute_result"
    }
   ],
   "source": [
    "# Delete trips\n",
    "df_TransportCompany.drop([1647, 2026], axis = 0, inplace = True)\n",
    "\n",
    "# Assign a random start transit time\n",
    "r_stt = time(np.random.randint(13, 17), 0, 0)\n",
    "df_TransportCompany.loc[[2050, 2076], 'HORA DE INICIO DEL TRANSITO'] = r_stt\n",
    "\n",
    "# Find their arrival dates\n",
    "(\n",
    "    trip_duration.\n",
    "    get_correct_arr_date(\n",
    "        df_TransportCompany.loc[[2050, 2062, 2076], :]).\n",
    "    value_counts(dropna = False)\n",
    ")\n"
   ]
  },
  {
   "cell_type": "markdown",
   "metadata": {},
   "source": [
    "Unfortunately, their routes are not in the trip duration table. But since their status is no **En destino (At destination)**, it will be OK to fill the arrival date and time with Unregistered values. "
   ]
  },
  {
   "cell_type": "code",
   "execution_count": 155,
   "metadata": {},
   "outputs": [
    {
     "data": {
      "text/plain": [
       "FECHA DE INICIO                0\n",
       "FECHA DE LLEGADA               0\n",
       "HORA DE INICIO DEL TRANSITO    0\n",
       "HORA DE LLEGADA DESTINO        0\n",
       "dtype: int64"
      ]
     },
     "execution_count": 155,
     "metadata": {},
     "output_type": "execute_result"
    }
   ],
   "source": [
    "df_TransportCompany.loc[[2050, 2062, 2076], \n",
    "                        ['HORA DE LLEGADA DESTINO', \n",
    "                         'FECHA DE LLEGADA']] = 'Unregistered'\n",
    "df_TransportCompany[\n",
    "    ['FECHA DE INICIO', 'FECHA DE LLEGADA',\n",
    "     'HORA DE INICIO DEL TRANSITO', 'HORA DE LLEGADA DESTINO',]\n",
    "    ].isnull().sum()     "
   ]
  },
  {
   "cell_type": "markdown",
   "metadata": {},
   "source": [
    "<hr>\n",
    "<h4 style = \"text-align: center\"><strong>NULL-DATA IN BUDGET COLUMN</strong></h4>\n",
    "<p>\n",
    "This is directly related to the Transfer Date column, so if we encounter an 'Unregistered' value in any trip, we need to do the same for this field. Otherwise, we'll have to get this information from the data provided by the trips with the same route. But it will be checked if the variables FAMILIA and NUEVO / SEMI NUEVO affect the value of the budget. </p> \n"
   ]
  },
  {
   "cell_type": "code",
   "execution_count": 138,
   "metadata": {},
   "outputs": [
    {
     "data": {
      "text/plain": [
       "POR RENDIR S/\n",
       "<class 'float'>    111\n",
       "<class 'int'>       91\n",
       "<class 'str'>       49\n",
       "Name: count, dtype: int64"
      ]
     },
     "execution_count": 138,
     "metadata": {},
     "output_type": "execute_result"
    }
   ],
   "source": [
    "unrg_dateTransf = Budget(df_tc=df_TransportCompany) \n",
    "unrg_dateTransf.dtypes()"
   ]
  },
  {
   "cell_type": "markdown",
   "metadata": {},
   "source": [
    "It's strange to see int values in this column despite the fact the transfer date was not recorded. But there may be an explanation. Maybe the trip was canceled, but the payment of the budget to the driver was advanced. Anyway, this information is useful for us, because we can know how much money the driver receives for a particular route."
   ]
  },
  {
   "cell_type": "code",
   "execution_count": 139,
   "metadata": {},
   "outputs": [
    {
     "data": {
      "text/plain": [
       "POR RENDIR S/\n",
       "-              23\n",
       "---            16\n",
       "FALSO FLETE     4\n",
       "--              3\n",
       "-------         2\n",
       "CANCELADO       1\n",
       "Name: count, dtype: int64"
      ]
     },
     "execution_count": 139,
     "metadata": {},
     "output_type": "execute_result"
    }
   ],
   "source": [
    "# Dealing with null values\n",
    "null_budget = unrg_dateTransf.budget_table[unrg_dateTransf.budget_table['POR RENDIR S/'].isnull()]\n",
    "df_TransportCompany.loc[\n",
    "        null_budget.index,\n",
    "        'POR RENDIR S/' \n",
    "        ] = 'Unregistered'\n",
    "# Meeting the str values\n",
    "unrg_dateTransf.dtypes(str) "
   ]
  },
  {
   "cell_type": "code",
   "execution_count": 140,
   "metadata": {},
   "outputs": [
    {
     "data": {
      "text/plain": [
       "STATUS\n",
       "CANCELADO       24\n",
       "FALSO FLETE     18\n",
       "REPROGRAMADO     7\n",
       "Name: count, dtype: int64"
      ]
     },
     "execution_count": 140,
     "metadata": {},
     "output_type": "execute_result"
    }
   ],
   "source": [
    "str_budgets = unrg_dateTransf.budget_table.loc[\n",
    "        unrg_dateTransf.budget_table['POR RENDIR S/'].astype(str).str.contains('-|FA|CA')\n",
    "        ]\n",
    "# Check the status\n",
    "str_budgets['STATUS'].value_counts()\n"
   ]
  },
  {
   "cell_type": "markdown",
   "metadata": {},
   "source": [
    "These trips were not made, so we need to do the same with as null values:"
   ]
  },
  {
   "cell_type": "code",
   "execution_count": 141,
   "metadata": {},
   "outputs": [],
   "source": [
    "df_TransportCompany.loc[\n",
    "    str_budgets.index, 'POR RENDIR S/'\n",
    "] = 'Unregistered'"
   ]
  },
  {
   "cell_type": "markdown",
   "metadata": {},
   "source": [
    "Make sure there are only two dtypes in the budget column: str and int. And the string budgets must be Unregisterd values."
   ]
  },
  {
   "cell_type": "code",
   "execution_count": 142,
   "metadata": {},
   "outputs": [
    {
     "data": {
      "text/plain": [
       "POR RENDIR S/\n",
       "<class 'str'>    160\n",
       "<class 'int'>     91\n",
       "Name: count, dtype: int64"
      ]
     },
     "execution_count": 142,
     "metadata": {},
     "output_type": "execute_result"
    }
   ],
   "source": [
    "# Update content after manipulating the data in Budget column.\n",
    "unrg_dateTransf.table_tc = df_TransportCompany\n",
    "unrg_dateTransf.dtypes()"
   ]
  },
  {
   "cell_type": "markdown",
   "metadata": {},
   "source": [
    "Now, it's time to see what happens with the trips that have a valid transfer date. We'll have to build a table that contains the budget by the route, automobile type and whether it's new or used in order to fill in null or invalid data in the Budget column.  "
   ]
  },
  {
   "cell_type": "code",
   "execution_count": 143,
   "metadata": {},
   "outputs": [
    {
     "data": {
      "text/plain": [
       "POR RENDIR S/\n",
       "<class 'int'>      1367\n",
       "<class 'float'>     385\n",
       "<class 'str'>        86\n",
       "Name: count, dtype: int64"
      ]
     },
     "execution_count": 143,
     "metadata": {},
     "output_type": "execute_result"
    }
   ],
   "source": [
    "valid_transf_date = Budget(df_tc = df_TransportCompany, transf_date = True)\n",
    "budget_table_vtd = valid_transf_date.budget_table #vtd = valid transfer date\n",
    "valid_transf_date.dtypes()"
   ]
  },
  {
   "cell_type": "code",
   "execution_count": 144,
   "metadata": {},
   "outputs": [
    {
     "data": {
      "text/plain": [
       "384"
      ]
     },
     "execution_count": 144,
     "metadata": {},
     "output_type": "execute_result"
    }
   ],
   "source": [
    "(\n",
    "    budget_table_vtd['POR RENDIR S/'].\n",
    "    isnull().\n",
    "    sum()\n",
    ")"
   ]
  },
  {
   "cell_type": "markdown",
   "metadata": {},
   "source": [
    "The budget is a discrete variable, so it cannot be possible to have float values. But, this is due to the presence of null data in this column. As we can see almost the 100% of float values are nulls (384/385). We will have to fill them with the budget table that we are going to build with the consist data.  "
   ]
  },
  {
   "cell_type": "code",
   "execution_count": 145,
   "metadata": {},
   "outputs": [
    {
     "data": {
      "text/plain": [
       "POR RENDIR S/\n",
       "-              75\n",
       "---             6\n",
       "-------         3\n",
       "----            1\n",
       "ESCOLTA 500     1\n",
       "Name: count, dtype: int64"
      ]
     },
     "execution_count": 145,
     "metadata": {},
     "output_type": "execute_result"
    }
   ],
   "source": [
    "valid_transf_date.dtypes(str)"
   ]
  },
  {
   "cell_type": "markdown",
   "metadata": {},
   "source": [
    "This is a similar situation to those trips that don't have registered transfer date. Let's check if they were made or not: "
   ]
  },
  {
   "cell_type": "code",
   "execution_count": 146,
   "metadata": {},
   "outputs": [
    {
     "data": {
      "image/png": "[encoded data removed]",
      "text/plain": [
       "<Figure size 400x200 with 1 Axes>"
      ]
     },
     "metadata": {},
     "output_type": "display_data"
    }
   ],
   "source": [
    "# Visualize the different status present:\n",
    "plt.figure(figsize = (4, 2))\n",
    "(\n",
    "valid_transf_date.\n",
    "budget_table.loc[\n",
    "        valid_transf_date.\n",
    "        budget_table['POR RENDIR S/'].astype(str).str.contains('-|E')\n",
    "].\n",
    "pipe(\n",
    "    lambda df:\n",
    "        sns.countplot(\n",
    "            data = df,\n",
    "            y = 'STATUS',\n",
    "        )\n",
    ")\n",
    ")\n",
    "plt.title(\"Status of trips with a '-'\\nas budget value\",\n",
    "          fontdict = {'weight': 'bold'})\n",
    "plt.show()"
   ]
  },
  {
   "cell_type": "markdown",
   "metadata": {},
   "source": [
    "<p>Most of the trips that have a registered transfer date and '-' value as a budget have been made (EN DESTINO). So, when we build the budget table, we will be able to get the correct amounts. On the other hand, there are also reprogrammed (REPROGRAMADO) and programmed (PROGRAMADO) trips, so we need to fill this field with <i>\"Unregistered\".</i></p>"
   ]
  },
  {
   "cell_type": "code",
   "execution_count": 147,
   "metadata": {},
   "outputs": [
    {
     "data": {
      "text/html": [
       "<div>\n",
       "<style scoped>\n",
       "    .dataframe tbody tr th:only-of-type {\n",
       "        vertical-align: middle;\n",
       "    }\n",
       "\n",
       "    .dataframe tbody tr th {\n",
       "        vertical-align: top;\n",
       "    }\n",
       "\n",
       "    .dataframe thead th {\n",
       "        text-align: right;\n",
       "    }\n",
       "</style>\n",
       "<table border=\"1\" class=\"dataframe\">\n",
       "  <thead>\n",
       "    <tr style=\"text-align: right;\">\n",
       "      <th></th>\n",
       "      <th>FECHA TRANSFERENCIA</th>\n",
       "      <th>POR RENDIR S/</th>\n",
       "      <th>STATUS</th>\n",
       "    </tr>\n",
       "  </thead>\n",
       "  <tbody>\n",
       "    <tr>\n",
       "      <th>1463</th>\n",
       "      <td>-</td>\n",
       "      <td>-</td>\n",
       "      <td>REPROGRAMADO</td>\n",
       "    </tr>\n",
       "    <tr>\n",
       "      <th>1566</th>\n",
       "      <td>-------</td>\n",
       "      <td>-------</td>\n",
       "      <td>REPROGRAMADO</td>\n",
       "    </tr>\n",
       "    <tr>\n",
       "      <th>1576</th>\n",
       "      <td>-------</td>\n",
       "      <td>-------</td>\n",
       "      <td>REPROGRAMADO</td>\n",
       "    </tr>\n",
       "    <tr>\n",
       "      <th>1584</th>\n",
       "      <td>-------</td>\n",
       "      <td>-------</td>\n",
       "      <td>REPROGRAMADO</td>\n",
       "    </tr>\n",
       "    <tr>\n",
       "      <th>1842</th>\n",
       "      <td>2023-09-23 00:00:00</td>\n",
       "      <td>-</td>\n",
       "      <td>PROGRAMADO</td>\n",
       "    </tr>\n",
       "  </tbody>\n",
       "</table>\n",
       "</div>"
      ],
      "text/plain": [
       "      FECHA TRANSFERENCIA POR RENDIR S/        STATUS\n",
       "1463                    -             -  REPROGRAMADO\n",
       "1566              -------       -------  REPROGRAMADO\n",
       "1576              -------       -------  REPROGRAMADO\n",
       "1584              -------       -------  REPROGRAMADO\n",
       "1842  2023-09-23 00:00:00             -    PROGRAMADO"
      ]
     },
     "execution_count": 147,
     "metadata": {},
     "output_type": "execute_result"
    }
   ],
   "source": [
    "cond_status = budget_table_vtd['STATUS'].isin(['REPROGRAMADO', 'PROGRAMADO'])\n",
    "cond_hyphen = budget_table_vtd['POR RENDIR S/'].astype(str).str.contains('-')\n",
    "# Replace the budget field for these trips \n",
    "df_TransportCompany.loc[\n",
    "    budget_table_vtd.loc[cond_status & cond_hyphen].index,\n",
    "    ['FECHA TRANSFERENCIA', 'POR RENDIR S/', 'STATUS']\n",
    "]"
   ]
  },
  {
   "cell_type": "markdown",
   "metadata": {},
   "source": [
    "<p>It's curious to see these kind of values in the transfer date despite the fact we have set to only get the trips with a valid value for this field. We will have to <i>\"kill two birds with one stone\"</i>.</p>"
   ]
  },
  {
   "cell_type": "code",
   "execution_count": 148,
   "metadata": {},
   "outputs": [],
   "source": [
    "df_TransportCompany.loc[\n",
    "    budget_table_vtd.loc[cond_status & cond_hyphen].index,\n",
    "    ['FECHA TRANSFERENCIA', 'POR RENDIR S/']\n",
    "] = 'Unregistered'"
   ]
  },
  {
   "cell_type": "markdown",
   "metadata": {},
   "source": [
    "<h5 style = \"color: brown\"><u>Let's start with building the budget table ⛏️💵</u></h5>\n",
    "\n",
    "<p style = \"font-family: Verdana\">\n",
    "Let's look how the  Budget behaves according to the variables `FAMILIA` and `NUEVO / SEMINUEVO` to determine if they are related.\n",
    "</p>"
   ]
  },
  {
   "cell_type": "code",
   "execution_count": 149,
   "metadata": {},
   "outputs": [],
   "source": [
    "first_cond = ~(df_TransportCompany['STATUS'].isin(\n",
    "    ['FALSO FLETE, CANCELADO, PROGRAMADO, REPROGRAMADO']\n",
    "    ))\n",
    "second_cond = df_TransportCompany['POR RENDIR S/'].apply(lambda budget: type(budget) == int )\n",
    "cols = ['ORIGEN', 'DESTINO', 'POR RENDIR S/', 'FAMILIA', 'NUEVO / SEMINUEVO', 'LOCAL / REGIONAL']\n",
    "# Get the table\n",
    "budget_table = df_TransportCompany.loc[first_cond & second_cond, cols].copy()\n",
    "budget_table['ROUTE'] = df_TransportCompany.apply(\n",
    "                            lambda trip: trip['ORIGEN'] + ' - ' + trip['DESTINO'], axis = 1\n",
    "                                                )"
   ]
  },
  {
   "cell_type": "markdown",
   "metadata": {},
   "source": [
    "Certain problems:\n",
    "<ul>\n",
    "    <li>\n",
    "    There are two values that are the same in the group of families, only that one is in CAPITAL letters: `Automóviles` and `AUTOMÓVILES`\n",
    "    </li>\n",
    "</ul>"
   ]
  },
  {
   "cell_type": "code",
   "execution_count": 150,
   "metadata": {},
   "outputs": [
    {
     "data": {
      "text/plain": [
       "['CAMIONES', 'BUSES', 'VANS', 'Automóviles', 'AUTOMÓVILES']"
      ]
     },
     "execution_count": 150,
     "metadata": {},
     "output_type": "execute_result"
    }
   ],
   "source": [
    "budget_table['FAMILIA'].unique().tolist()"
   ]
  },
  {
   "cell_type": "markdown",
   "metadata": {},
   "source": [
    "<ul>\n",
    "<li>\n",
    "    Something similar happens with the other variable where we have the condition `SEMINUEVO` and `SEMINUEVA`\n",
    "</li>\n",
    "</ul>"
   ]
  },
  {
   "cell_type": "code",
   "execution_count": 151,
   "metadata": {},
   "outputs": [
    {
     "data": {
      "text/plain": [
       "['NUEVO', 'SEMINUEVO', nan, 'SEMINUEVA']"
      ]
     },
     "execution_count": 151,
     "metadata": {},
     "output_type": "execute_result"
    }
   ],
   "source": [
    "budget_table['NUEVO / SEMINUEVO'].unique().tolist()"
   ]
  },
  {
   "cell_type": "markdown",
   "metadata": {},
   "source": [
    "Next task: As we can see, there are trips that have a null data for this field. But if we identify the route and the budget received, we could know the condition of these cars.    "
   ]
  },
  {
   "cell_type": "code",
   "execution_count": 152,
   "metadata": {},
   "outputs": [],
   "source": [
    "# Let's replace them\n",
    "budget_table.loc[budget_table['FAMILIA'] == 'Automóviles', 'FAMILIA'] = 'AUTOMÓVILES'\n",
    "budget_table.loc[budget_table['NUEVO / SEMINUEVO'] == 'SEMINUEVA', 'NUEVO / SEMINUEVO'] = 'SEMINUEVO'"
   ]
  },
  {
   "cell_type": "code",
   "execution_count": 153,
   "metadata": {},
   "outputs": [
    {
     "data": {
      "image/png": "[encoded data removed]",
      "text/plain": [
       "<Figure size 1500x400 with 2 Axes>"
      ]
     },
     "metadata": {},
     "output_type": "display_data"
    }
   ],
   "source": [
    "# Plot how the distribution of the budget behave by the variables family and condition\n",
    "fig = plt.figure(figsize = (15, 4))\n",
    "#Family\n",
    "ax1 = fig.add_subplot(121)\n",
    "sns.boxplot(data = budget_table, x='FAMILIA', y='POR RENDIR S/')\n",
    "ax1.set_title('BUDGET RECEIVED\\nBY FAMILY', fontdict = {'weight': 'bold'})\n",
    "# Condition\n",
    "ax2 = fig.add_subplot(122)\n",
    "sns.boxplot(data = budget_table, x='NUEVO / SEMINUEVO', y= 'POR RENDIR S/')\n",
    "ax2.set_title(\"BUDGET RECEIVED\\nBY VEHICLE'S CONDITON\", fontdict = {'weight': 'bold'})\n",
    "plt.show()"
   ]
  },
  {
   "cell_type": "code",
   "execution_count": 154,
   "metadata": {},
   "outputs": [
    {
     "data": {
      "text/html": [
       "<div>\n",
       "<style scoped>\n",
       "    .dataframe tbody tr th:only-of-type {\n",
       "        vertical-align: middle;\n",
       "    }\n",
       "\n",
       "    .dataframe tbody tr th {\n",
       "        vertical-align: top;\n",
       "    }\n",
       "\n",
       "    .dataframe thead th {\n",
       "        text-align: right;\n",
       "    }\n",
       "</style>\n",
       "<table border=\"1\" class=\"dataframe\">\n",
       "  <thead>\n",
       "    <tr style=\"text-align: right;\">\n",
       "      <th></th>\n",
       "      <th>std</th>\n",
       "      <th>mean</th>\n",
       "      <th>0.25</th>\n",
       "      <th>0.5</th>\n",
       "      <th>0.75</th>\n",
       "    </tr>\n",
       "  </thead>\n",
       "  <tbody>\n",
       "    <tr>\n",
       "      <th>BUSES</th>\n",
       "      <td>240.77</td>\n",
       "      <td>190.22</td>\n",
       "      <td>50.0</td>\n",
       "      <td>50.0</td>\n",
       "      <td>250.0</td>\n",
       "    </tr>\n",
       "    <tr>\n",
       "      <th>VANS</th>\n",
       "      <td>114.31</td>\n",
       "      <td>126.98</td>\n",
       "      <td>50.0</td>\n",
       "      <td>50.0</td>\n",
       "      <td>200.0</td>\n",
       "    </tr>\n",
       "    <tr>\n",
       "      <th>AUTOMÓVILES</th>\n",
       "      <td>117.25</td>\n",
       "      <td>123.33</td>\n",
       "      <td>50.0</td>\n",
       "      <td>50.0</td>\n",
       "      <td>200.0</td>\n",
       "    </tr>\n",
       "    <tr>\n",
       "      <th>CAMIONES</th>\n",
       "      <td>181.92</td>\n",
       "      <td>123.10</td>\n",
       "      <td>50.0</td>\n",
       "      <td>50.0</td>\n",
       "      <td>100.0</td>\n",
       "    </tr>\n",
       "  </tbody>\n",
       "</table>\n",
       "</div>"
      ],
      "text/plain": [
       "                std    mean  0.25   0.5   0.75\n",
       "BUSES        240.77  190.22  50.0  50.0  250.0\n",
       "VANS         114.31  126.98  50.0  50.0  200.0\n",
       "AUTOMÓVILES  117.25  123.33  50.0  50.0  200.0\n",
       "CAMIONES     181.92  123.10  50.0  50.0  100.0"
      ]
     },
     "execution_count": 154,
     "metadata": {},
     "output_type": "execute_result"
    }
   ],
   "source": [
    "families = budget_table['FAMILIA'].unique()\n",
    "stats_families = []\n",
    "for fam in families:\n",
    "    budget = budget_table.loc[budget_table['FAMILIA'] == fam, 'POR RENDIR S/']\n",
    "    main_stats = pd.concat(\n",
    "        [budget.agg({'mean', 'std'}, skipna = False), budget.quantile([0.25, 0.5, 0.75])]) \n",
    "    main_stats.name = fam\n",
    "    stats_families.append(main_stats)\n",
    "pd.DataFrame(stats_families).sort_values(0.75, ascending = False).round(2)"
   ]
  },
  {
   "cell_type": "markdown",
   "metadata": {},
   "source": [
    "<p style = 'font-family: Verdana'> Appreciations:\n",
    "    <ul>\n",
    "        <li>It can be seen that the 50% of vehicles of each type have received the same amount of budget. What could be happening is that most of the records are local trips and there is a standard fare regardless of type of vehicle. In this case, it can be affirmed that it does not exist a significant difference between the families.</li>\n",
    "        <li>At first glance, and if the outliers are ignored, it's most likely that the bus is the type of vehicle that receives the highest amount of budget for a trip.</li>\n",
    "        <li>There is an exaggerated number of outliers for trucks. Is this perhaps due to the combination of local and regional trips?</li>\n",
    "        <li>A semi-new car will get more money than a new car. And this could happen because these cars need to renew their technical-mechanical review, or a reflective tape or a bumper needed to be added. </li>\n",
    "    </ul>\n",
    "</p>\n"
   ]
  },
  {
   "cell_type": "code",
   "execution_count": 155,
   "metadata": {},
   "outputs": [
    {
     "data": {
      "image/png": "[encoded data removed]",
      "text/plain": [
       "<Figure size 800x400 with 1 Axes>"
      ]
     },
     "metadata": {},
     "output_type": "display_data"
    }
   ],
   "source": [
    "plt.figure(figsize = (8, 4))\n",
    "(\n",
    "    budget_table.\n",
    "    pipe(\n",
    "        lambda df:\n",
    "            sns.boxplot(\n",
    "                data = df, \n",
    "                x = 'FAMILIA', \n",
    "                y = 'POR RENDIR S/', \n",
    "                hue = 'LOCAL / REGIONAL',\n",
    "                )\n",
    "    )\n",
    ")\n",
    "plt.title(\"Budget received in local and regional trips\\nby vehicle type\", fontdict = {'weight': 'bold'})\n",
    "plt.show()"
   ]
  },
  {
   "cell_type": "markdown",
   "metadata": {},
   "source": [
    "<div style = 'font-family: Verdana'>\n",
    "<uL>\n",
    "    <li>As shown in the box plot, a regional trip receives a higher amount of budget compared to a local trip</li> \n",
    "    <li>The local and regional trips of the trucks were combined and that is why we saw a lot of outliers. </li>\n",
    "    <li>You can see a wider spread in the regional trips. And this could be determined by the distance of the route, which can be measured by the mileage variable.</li>\n",
    "    <li>It's interesting to see that there are regional trips that gets the same budget of a local trip.</li>\n",
    "    <li>It makes no sense to see a third value for this variable: LOCAL / REGIONAL. It's not clear why the company decided to include it. What does it mean?</li>\n",
    "</ul>\n",
    "\n",
    "<hr>\n",
    "\n",
    "<p> Let's find out which trips were made by the same vehicle under different conditions (Semi-New and New), to check if there is a difference between the budget that one trip with respect to the other:\n",
    "</p>\n",
    "</div>"
   ]
  },
  {
   "cell_type": "code",
   "execution_count": 156,
   "metadata": {},
   "outputs": [
    {
     "data": {
      "text/html": [
       "<div>\n",
       "<style scoped>\n",
       "    .dataframe tbody tr th:only-of-type {\n",
       "        vertical-align: middle;\n",
       "    }\n",
       "\n",
       "    .dataframe tbody tr th {\n",
       "        vertical-align: top;\n",
       "    }\n",
       "\n",
       "    .dataframe thead th {\n",
       "        text-align: right;\n",
       "    }\n",
       "</style>\n",
       "<table border=\"1\" class=\"dataframe\">\n",
       "  <thead>\n",
       "    <tr style=\"text-align: right;\">\n",
       "      <th></th>\n",
       "      <th>ROUTE</th>\n",
       "      <th>FAMILIA</th>\n",
       "      <th>CONDITIONS</th>\n",
       "    </tr>\n",
       "  </thead>\n",
       "  <tbody>\n",
       "    <tr>\n",
       "      <th>0</th>\n",
       "      <td>CPR - LOCAL CLIENTE</td>\n",
       "      <td>CAMIONES</td>\n",
       "      <td>2</td>\n",
       "    </tr>\n",
       "    <tr>\n",
       "      <th>1</th>\n",
       "      <td>LOCAL CLIENTE - MACROPOLIS</td>\n",
       "      <td>BUSES</td>\n",
       "      <td>2</td>\n",
       "    </tr>\n",
       "    <tr>\n",
       "      <th>2</th>\n",
       "      <td>SUC. KM24 - SUC. CERRO DE PASCO</td>\n",
       "      <td>CAMIONES</td>\n",
       "      <td>2</td>\n",
       "    </tr>\n",
       "  </tbody>\n",
       "</table>\n",
       "</div>"
      ],
      "text/plain": [
       "                             ROUTE   FAMILIA  CONDITIONS\n",
       "0              CPR - LOCAL CLIENTE  CAMIONES           2\n",
       "1       LOCAL CLIENTE - MACROPOLIS     BUSES           2\n",
       "2  SUC. KM24 - SUC. CERRO DE PASCO  CAMIONES           2"
      ]
     },
     "execution_count": 156,
     "metadata": {},
     "output_type": "execute_result"
    }
   ],
   "source": [
    "# SQL way\n",
    "get_query = lambda query: sqldf(query, globals())\n",
    "\n",
    "query = f\"\"\"\n",
    "SELECT ROUTE, FAMILIA, COUNT(DISTINCT \"NUEVO / SEMINUEVO\") AS CONDITIONS\n",
    "FROM budget_table as BT\n",
    "GROUP BY ROUTE, FAMILIA\n",
    "HAVING CONDITIONS = 2\n",
    "\"\"\"\n",
    "\n",
    "df_both_conditions = get_query(query)\n",
    "df_both_conditions"
   ]
  },
  {
   "cell_type": "markdown",
   "metadata": {},
   "source": [
    "<p style = 'font-family: Verdana'>\n",
    "Well, there are 3 routes that were made by the same vehicle under different conditions. So let's calculate the difference between their budgets.\n",
    "</p>"
   ]
  },
  {
   "cell_type": "code",
   "execution_count": 157,
   "metadata": {},
   "outputs": [
    {
     "data": {
      "image/png": "[encoded data removed]",
      "text/plain": [
       "<Figure size 400x200 with 1 Axes>"
      ]
     },
     "metadata": {},
     "output_type": "display_data"
    }
   ],
   "source": [
    "(\n",
    "    pd.merge(\n",
    "        left = budget_table,\n",
    "        right = df_both_conditions,\n",
    "        on = ['ROUTE', 'FAMILIA'] \n",
    "    ).\n",
    "    pivot_table(\n",
    "        index = ['ROUTE', 'FAMILIA'],\n",
    "        columns = ['NUEVO / SEMINUEVO'],\n",
    "        aggfunc = {'POR RENDIR S/': 'mean'}\n",
    "    ).\n",
    "    plot(\n",
    "        kind = 'barh',\n",
    "        figsize = (4, 2)\n",
    "    )\n",
    ")\n",
    "plt.legend(['NEW', 'SEMINEW'])\n",
    "plt.title('Average budget\\nby vehicle condition\\n', fontdict = {'weight': 'bold'})\n",
    "plt.show()"
   ]
  },
  {
   "cell_type": "markdown",
   "metadata": {},
   "source": [
    "\n",
    "\n",
    "<p style = \"font-family: Verdana\">\n",
    "\n",
    "The first two routes show us that a used vehicle does not necessarily get more money than a new one.  \n",
    "\n",
    "<hr>\n",
    "\n",
    "<h4 style = \"text-align: center\"><strong>DISTANCE TABLE</strong></h4>\n",
    "\n",
    "Now, we will analyze whether the distance of a trip is an important variable in determining the amount of budget to be delivered. The Google Distance Matrix API will be used for this task, but it's important to add some information when sending the request to be accurate:\n",
    "<ul>\n",
    "    <li>All trips are in Perú. </li>\n",
    "    <li>Local trips are made within the capital city (i.e Lima).</li>\n",
    "</ul>\n",
    "👷🏻‍♂️The creation of the distance table was carried out in `scripts/route_distances/distance_calculator.py`⛏️\n",
    "\n",
    "Before we proceed with creating the table containing the distances of each route. It's important to make sure that there are not values within the columns \"ORIGEN\" and \"DESTINO\" that refer to a same location, but are considered different due to a typo. For this complex task, we will use a NPL model:\n",
    "</p>"
   ]
  },
  {
   "cell_type": "code",
   "execution_count": 158,
   "metadata": {},
   "outputs": [],
   "source": [
    "from sentence_transformers import SentenceTransformer, util\n",
    "\n",
    "model = SentenceTransformer(\"all-MiniLM-L6-v2\")"
   ]
  },
  {
   "cell_type": "code",
   "execution_count": 159,
   "metadata": {},
   "outputs": [
    {
     "name": "stdout",
     "output_type": "stream",
     "text": [
      "ORIGEN -> Str values prop. = 1.0 AND null data = 0\n",
      "DESTINO -> Str values prop. = 1.0 AND null data = 0\n"
     ]
    }
   ],
   "source": [
    "# First, we make sure that there are no null values within the columns ORIGEN\n",
    "# and DESTINO. If this is not the case, then it must be checked that all the \n",
    "# values are str-objects.\n",
    "for c in ['ORIGEN', 'DESTINO']:\n",
    "    column = df_TransportCompany.loc[:, c]\n",
    "    null_data = column.isnull().sum() \n",
    "    if null_data == 0:\n",
    "        N = len(column)\n",
    "        str_val = column.apply(lambda val: type(val) == str).sum()\n",
    "        print(f'{c} -> Str values prop. = {str_val/N} AND null data = 0')"
   ]
  },
  {
   "cell_type": "code",
   "execution_count": 160,
   "metadata": {},
   "outputs": [],
   "source": [
    "# It's time to format the values of these columns to avoid problems when\n",
    "# comparing an upper character to a lower one, or if there's an empty space that\n",
    "# makes 2 values are not equal.\n",
    "for c in ['ORIGEN', 'DESTINO']:\n",
    "    df_TransportCompany[c] = df_TransportCompany[c].str.title().str.strip()"
   ]
  },
  {
   "cell_type": "code",
   "execution_count": 161,
   "metadata": {},
   "outputs": [],
   "source": [
    "# Store the values:\n",
    "points = {col: df_TransportCompany.loc[:, col]\n",
    "          for col in [\"ORIGEN\", \"DESTINO\"]}\n",
    "points = pd.Series(np.union1d(points[\"ORIGEN\"], points[\"DESTINO\"]))\n",
    "# Convert these values to high-dimentsional vectors (embedding)\n",
    "embeddings = model.encode(points)\n",
    "# Find out which values are very similar by using the cosine similarity:\n",
    "# If the score is close to 1, the vectors are almost parallel. This means these \n",
    "# points are syntactically very similar.\n",
    "scores = util.cos_sim(embeddings, embeddings)"
   ]
  },
  {
   "cell_type": "code",
   "execution_count": 162,
   "metadata": {},
   "outputs": [],
   "source": [
    "# From the calculated cosine similarity values, we can find the groups of words \n",
    "# that are syntactically similar. We say that two words belong to the same group\n",
    "# if and only if their score is between 0.8 and 1. In this way, we get binary vectors \n",
    "bin_groups = set()\n",
    "for el in np.where(0.8 <= scores, 1, 0):\n",
    "    if el.sum() > 1:\n",
    "        bin_groups.add(tuple(el))\n",
    "# Then, from these binary vectors we can retrieve the groups of words, where each\n",
    "# 1 in the vector represents a position in the 'points' list that we have created.\n",
    "# For this task, we created a JSON object where each element stores the words\n",
    "# that are similar and the correct one that will replace all of those ocurrences.\n",
    "word_groups = {}\n",
    "for n, bg in enumerate(bin_groups):\n",
    "    word_groups[n] = {'words': tuple(points[pd.Series(bg).apply(lambda x: bool(x))]),\n",
    "                      'correct': None}\n",
    "del bin_groups"
   ]
  },
  {
   "cell_type": "code",
   "execution_count": 163,
   "metadata": {},
   "outputs": [],
   "source": [
    "# with open('./notebooks/groups.json', 'w') as f:\n",
    "#     json.dump(word_groups, f, indent=4)"
   ]
  },
  {
   "cell_type": "code",
   "execution_count": 164,
   "metadata": {},
   "outputs": [],
   "source": [
    "# Once we set the correct values for each group\n",
    "with open('./notebooks/groups.json', 'r') as f:\n",
    "    correct_words = json.load(f)"
   ]
  },
  {
   "cell_type": "code",
   "execution_count": 165,
   "metadata": {},
   "outputs": [],
   "source": [
    "# Overwrite some values within the columns ORIGEN and DESTINO\n",
    "for g in correct_words.values():\n",
    "    for ptype in ['ORIGEN', 'DESTINO']:\n",
    "        df_TransportCompany.loc[\n",
    "            df_TransportCompany[ptype].isin(g['words']), ptype\n",
    "            ] = g['correct']"
   ]
  },
  {
   "cell_type": "markdown",
   "metadata": {},
   "source": [
    "<p style = \"font-family: Verdana\">\n",
    "We need to add more details (province and country) in the addresses of the origin and destination points to receive an accurate answer when sending the request:\n",
    "</p>"
   ]
  },
  {
   "cell_type": "code",
   "execution_count": 166,
   "metadata": {},
   "outputs": [],
   "source": [
    "# The local trips were made in the capital of Peru: Lima\n",
    "local_points = df_TransportCompany.loc[\n",
    "        df_TransportCompany['LOCAL / REGIONAL'] == 'LOCAL',\n",
    "        ['ORIGEN', 'DESTINO']\n",
    "    ].melt().value.drop_duplicates()\n",
    "for ptype in ['ORIGEN', 'DESTINO']:\n",
    "    df_TransportCompany.loc[\n",
    "        df_TransportCompany[ptype].isin(local_points), \n",
    "        ptype] = df_TransportCompany.loc[\n",
    "            df_TransportCompany[ptype].isin(local_points), \n",
    "            ptype] + ', Lima, Peru'\n",
    "# The regional trips have either origin or destination point in Lima. And, the opposite \n",
    "# point is located in another province of Peru.\n",
    "regional_routes = df_TransportCompany[df_TransportCompany['LOCAL / REGIONAL'] == 'REGIONAL'].index\n",
    "for row in regional_routes:\n",
    "    origin, destination = df_TransportCompany.loc[row, ['ORIGEN', 'DESTINO']]\n",
    "    if origin.endswith('Peru') and not destination.endswith('Peru'):\n",
    "        df_TransportCompany.loc[row, 'DESTINO'] = destination + ', Peru'\n",
    "    elif not( origin.endswith('Peru') or destination.endswith('Peru') ):\n",
    "        df_TransportCompany.loc[row, 'ORIGEN'] = origin + ', Peru'\n",
    "        df_TransportCompany.loc[row, 'DESTINO'] = destination + ', Peru'\n",
    "    elif not origin.endswith('Peru') and destination.endswith('Peru'):\n",
    "        df_TransportCompany.loc[row, 'ORIGEN'] = origin + ', Peru'"
   ]
  },
  {
   "cell_type": "code",
   "execution_count": 167,
   "metadata": {},
   "outputs": [],
   "source": [
    "# (\n",
    "#     df_TransportCompany.\n",
    "#     loc[first_cond & second_cond, ['ORIGEN', 'DESTINO', 'POR RENDIR S/']].\n",
    "#     to_csv('scripts/route_distances/budgets.csv')\n",
    "# )"
   ]
  },
  {
   "cell_type": "code",
   "execution_count": 176,
   "metadata": {},
   "outputs": [
    {
     "data": {
      "text/plain": [
       "[]"
      ]
     },
     "execution_count": 176,
     "metadata": {},
     "output_type": "execute_result"
    },
    {
     "data": {
      "image/png": "[encoded data removed]",
      "text/plain": [
       "<Figure size 800x300 with 1 Axes>"
      ]
     },
     "metadata": {},
     "output_type": "display_data"
    }
   ],
   "source": [
    "# Once the budget table has been created.\n",
    "budget_table = pd.read_csv(\"data/budget_table.csv\")\n",
    "# Let's analyze if it's true that the statement: a greater distance, a greater budget\n",
    "budget_table.plot(\n",
    "    kind=\"scatter\",\n",
    "    x=\"KM\",\n",
    "    y=\"POR RENDIR S/\",\n",
    "    figsize=(8, 3),\n",
    "    title=\"A greater distance, a greater budget?\"\n",
    ")\n",
    "plt.plot()"
   ]
  },
  {
   "cell_type": "markdown",
   "metadata": {},
   "source": [
    "<p style = \"font-family: Verdana\"> There is a slight upward tendency indicating that a greater distance is associated with the delivery of a greater budget. Howeever, it cannot be stated that this fact is absolutely true, since there are points that don't respect that statement. Therefore, it does not exist a clear behavior.</p>"
   ]
  }
 ],
 "metadata": {
  "kernelspec": {
   "display_name": "Python 3 (ipykernel)",
   "language": "python",
   "name": "python3"
  },
  "language_info": {
   "codemirror_mode": {
    "name": "ipython",
    "version": 3
   },
   "file_extension": ".py",
   "mimetype": "text/x-python",
   "name": "python",
   "nbconvert_exporter": "python",
   "pygments_lexer": "ipython3",
   "version": "3.12.3"
  }
 },
 "nbformat": 4,
 "nbformat_minor": 4
}
